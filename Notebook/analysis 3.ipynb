{
 "cells": [
  {
   "cell_type": "code",
   "execution_count": 1,
   "metadata": {
    "collapsed": true,
    "pycharm": {
     "name": "#%%\n",
     "is_executing": false
    }
   },
   "outputs": [],
   "source": [
    "import pandas as pd"
   ]
  },
  {
   "cell_type": "code",
   "execution_count": 2,
   "outputs": [],
   "source": [
    "unemployment_county = pd.read_csv('../datasets/unemployment.csv')"
   ],
   "metadata": {
    "collapsed": false,
    "pycharm": {
     "name": "#%%\n",
     "is_executing": false
    }
   }
  },
  {
   "cell_type": "code",
   "execution_count": 3,
   "outputs": [
    {
     "data": {
      "text/plain": "   Year     Month        State         County  Rate\n0  2015  February  Mississippi  Newton County   6.1\n1  2015  February  Mississippi  Panola County   9.4\n2  2015  February  Mississippi  Monroe County   7.9\n3  2015  February  Mississippi   Hinds County   6.1\n4  2015  February  Mississippi  Kemper County  10.6",
      "text/html": "<div>\n<style scoped>\n    .dataframe tbody tr th:only-of-type {\n        vertical-align: middle;\n    }\n\n    .dataframe tbody tr th {\n        vertical-align: top;\n    }\n\n    .dataframe thead th {\n        text-align: right;\n    }\n</style>\n<table border=\"1\" class=\"dataframe\">\n  <thead>\n    <tr style=\"text-align: right;\">\n      <th></th>\n      <th>Year</th>\n      <th>Month</th>\n      <th>State</th>\n      <th>County</th>\n      <th>Rate</th>\n    </tr>\n  </thead>\n  <tbody>\n    <tr>\n      <th>0</th>\n      <td>2015</td>\n      <td>February</td>\n      <td>Mississippi</td>\n      <td>Newton County</td>\n      <td>6.1</td>\n    </tr>\n    <tr>\n      <th>1</th>\n      <td>2015</td>\n      <td>February</td>\n      <td>Mississippi</td>\n      <td>Panola County</td>\n      <td>9.4</td>\n    </tr>\n    <tr>\n      <th>2</th>\n      <td>2015</td>\n      <td>February</td>\n      <td>Mississippi</td>\n      <td>Monroe County</td>\n      <td>7.9</td>\n    </tr>\n    <tr>\n      <th>3</th>\n      <td>2015</td>\n      <td>February</td>\n      <td>Mississippi</td>\n      <td>Hinds County</td>\n      <td>6.1</td>\n    </tr>\n    <tr>\n      <th>4</th>\n      <td>2015</td>\n      <td>February</td>\n      <td>Mississippi</td>\n      <td>Kemper County</td>\n      <td>10.6</td>\n    </tr>\n  </tbody>\n</table>\n</div>"
     },
     "metadata": {},
     "output_type": "execute_result",
     "execution_count": 3
    }
   ],
   "source": [
    "unemployment_county.head()"
   ],
   "metadata": {
    "collapsed": false,
    "pycharm": {
     "name": "#%%\n",
     "is_executing": false
    }
   }
  },
  {
   "cell_type": "code",
   "execution_count": 24,
   "outputs": [
    {
     "data": {
      "text/plain": "      Alaska  Arkansas  California  Colorado  Connecticut  Delaware  \\\nYear                                                                  \n1968   15.12      1.12       11.88      7.20        10.08      9.00   \n1969   14.33      1.07       11.26      6.83         9.56      8.53   \n1970   13.54      7.09       10.64      6.45        10.32      8.06   \n1971   12.99      6.80       10.20      6.18         9.89      7.73   \n1972   12.57      7.19        9.88      5.99        11.08      9.58   \n\n      District of Columbia  Federal (FLSA)   Guam  Hawaii  ...  Pennsylvania  \\\nYear                                                       ...                 \n1968                  9.00            8.28   9.00    9.00  ...          8.28   \n1969                  8.53            7.85   8.53    8.53  ...          7.85   \n1970                 10.32            8.38  10.32   10.32  ...          8.38   \n1971                  9.89            8.04   9.89    9.89  ...          8.04   \n1972                  9.58            9.58  11.38    9.58  ...          9.58   \n\n      Puerto Rico  Rhode Island  South Dakota  Utah  Vermont  Washington  \\\nYear                                                                       \n1968         3.10         10.08          3.06  7.20    10.08       11.52   \n1969         2.94          9.56          2.90  6.83     9.56       10.92   \n1970         2.77         10.32          6.45  6.45    10.32       10.32   \n1971         2.66          9.89          6.18  6.18     9.89        9.89   \n1972         3.89          9.58          5.99  7.19     9.58        9.58   \n\n      West Virginia  Wisconsin  Wyoming  \nYear                                     \n1968           7.20       9.00     8.64  \n1969           6.83       8.53     8.19  \n1970           6.45       8.38     8.38  \n1971           6.18       8.04     8.04  \n1972           7.19       8.68     8.98  \n\n[5 rows x 39 columns]",
      "text/html": "<div>\n<style scoped>\n    .dataframe tbody tr th:only-of-type {\n        vertical-align: middle;\n    }\n\n    .dataframe tbody tr th {\n        vertical-align: top;\n    }\n\n    .dataframe thead th {\n        text-align: right;\n    }\n</style>\n<table border=\"1\" class=\"dataframe\">\n  <thead>\n    <tr style=\"text-align: right;\">\n      <th></th>\n      <th>Alaska</th>\n      <th>Arkansas</th>\n      <th>California</th>\n      <th>Colorado</th>\n      <th>Connecticut</th>\n      <th>Delaware</th>\n      <th>District of Columbia</th>\n      <th>Federal (FLSA)</th>\n      <th>Guam</th>\n      <th>Hawaii</th>\n      <th>...</th>\n      <th>Pennsylvania</th>\n      <th>Puerto Rico</th>\n      <th>Rhode Island</th>\n      <th>South Dakota</th>\n      <th>Utah</th>\n      <th>Vermont</th>\n      <th>Washington</th>\n      <th>West Virginia</th>\n      <th>Wisconsin</th>\n      <th>Wyoming</th>\n    </tr>\n    <tr>\n      <th>Year</th>\n      <th></th>\n      <th></th>\n      <th></th>\n      <th></th>\n      <th></th>\n      <th></th>\n      <th></th>\n      <th></th>\n      <th></th>\n      <th></th>\n      <th></th>\n      <th></th>\n      <th></th>\n      <th></th>\n      <th></th>\n      <th></th>\n      <th></th>\n      <th></th>\n      <th></th>\n      <th></th>\n      <th></th>\n    </tr>\n  </thead>\n  <tbody>\n    <tr>\n      <th>1968</th>\n      <td>15.12</td>\n      <td>1.12</td>\n      <td>11.88</td>\n      <td>7.20</td>\n      <td>10.08</td>\n      <td>9.00</td>\n      <td>9.00</td>\n      <td>8.28</td>\n      <td>9.00</td>\n      <td>9.00</td>\n      <td>...</td>\n      <td>8.28</td>\n      <td>3.10</td>\n      <td>10.08</td>\n      <td>3.06</td>\n      <td>7.20</td>\n      <td>10.08</td>\n      <td>11.52</td>\n      <td>7.20</td>\n      <td>9.00</td>\n      <td>8.64</td>\n    </tr>\n    <tr>\n      <th>1969</th>\n      <td>14.33</td>\n      <td>1.07</td>\n      <td>11.26</td>\n      <td>6.83</td>\n      <td>9.56</td>\n      <td>8.53</td>\n      <td>8.53</td>\n      <td>7.85</td>\n      <td>8.53</td>\n      <td>8.53</td>\n      <td>...</td>\n      <td>7.85</td>\n      <td>2.94</td>\n      <td>9.56</td>\n      <td>2.90</td>\n      <td>6.83</td>\n      <td>9.56</td>\n      <td>10.92</td>\n      <td>6.83</td>\n      <td>8.53</td>\n      <td>8.19</td>\n    </tr>\n    <tr>\n      <th>1970</th>\n      <td>13.54</td>\n      <td>7.09</td>\n      <td>10.64</td>\n      <td>6.45</td>\n      <td>10.32</td>\n      <td>8.06</td>\n      <td>10.32</td>\n      <td>8.38</td>\n      <td>10.32</td>\n      <td>10.32</td>\n      <td>...</td>\n      <td>8.38</td>\n      <td>2.77</td>\n      <td>10.32</td>\n      <td>6.45</td>\n      <td>6.45</td>\n      <td>10.32</td>\n      <td>10.32</td>\n      <td>6.45</td>\n      <td>8.38</td>\n      <td>8.38</td>\n    </tr>\n    <tr>\n      <th>1971</th>\n      <td>12.99</td>\n      <td>6.80</td>\n      <td>10.20</td>\n      <td>6.18</td>\n      <td>9.89</td>\n      <td>7.73</td>\n      <td>9.89</td>\n      <td>8.04</td>\n      <td>9.89</td>\n      <td>9.89</td>\n      <td>...</td>\n      <td>8.04</td>\n      <td>2.66</td>\n      <td>9.89</td>\n      <td>6.18</td>\n      <td>6.18</td>\n      <td>9.89</td>\n      <td>9.89</td>\n      <td>6.18</td>\n      <td>8.04</td>\n      <td>8.04</td>\n    </tr>\n    <tr>\n      <th>1972</th>\n      <td>12.57</td>\n      <td>7.19</td>\n      <td>9.88</td>\n      <td>5.99</td>\n      <td>11.08</td>\n      <td>9.58</td>\n      <td>9.58</td>\n      <td>9.58</td>\n      <td>11.38</td>\n      <td>9.58</td>\n      <td>...</td>\n      <td>9.58</td>\n      <td>3.89</td>\n      <td>9.58</td>\n      <td>5.99</td>\n      <td>7.19</td>\n      <td>9.58</td>\n      <td>9.58</td>\n      <td>7.19</td>\n      <td>8.68</td>\n      <td>8.98</td>\n    </tr>\n  </tbody>\n</table>\n<p>5 rows × 39 columns</p>\n</div>"
     },
     "metadata": {},
     "output_type": "execute_result",
     "execution_count": 24
    }
   ],
   "source": [
    "import numpy as np\n",
    "df = pd.read_csv('../datasets/minWage.csv')\n",
    "\n",
    "act_min_wage = pd.DataFrame()\n",
    "\n",
    "for name, group in df.groupby('State'):\n",
    "    if act_min_wage.empty:\n",
    "        act_min_wage = group.set_index('Year')[['Low.2018']].rename(columns={'Low.2018':name})\n",
    "    \n",
    "    else:\n",
    "        act_min_wage = act_min_wage.join(group.set_index('Year')[['Low.2018']].rename(columns={'Low.2018':name}))\n",
    "        \n",
    "act_min_wage = act_min_wage.replace(0, np.NaN).dropna(axis=1)\n",
    "act_min_wage.head()"
   ],
   "metadata": {
    "collapsed": false,
    "pycharm": {
     "name": "#%%\n",
     "is_executing": false
    }
   }
  },
  {
   "cell_type": "code",
   "execution_count": 25,
   "outputs": [
    {
     "data": {
      "text/plain": "8.33"
     },
     "metadata": {},
     "output_type": "execute_result",
     "execution_count": 25
    }
   ],
   "source": [
    "def get_min_wage(year, state):\n",
    "    try:\n",
    "        return act_min_wage.loc[year][state]\n",
    "    except:\n",
    "        return np.NaN\n",
    "\n",
    "get_min_wage(2012, \"Colorado\")"
   ],
   "metadata": {
    "collapsed": false,
    "pycharm": {
     "name": "#%%\n",
     "is_executing": false
    }
   }
  },
  {
   "cell_type": "code",
   "execution_count": 26,
   "outputs": [
    {
     "name": "stdout",
     "text": [
      "CPU times: user 1min 43s, sys: 20 ms, total: 1min 43s\n",
      "Wall time: 1min 43s\n"
     ],
     "output_type": "stream"
    }
   ],
   "source": [
    "%%time\n",
    "\n",
    "unemployment_county['min_wage'] = list(map(get_min_wage, unemployment_county['Year'], unemployment_county['State']))"
   ],
   "metadata": {
    "collapsed": false,
    "pycharm": {
     "name": "#%%\n",
     "is_executing": false
    }
   }
  },
  {
   "cell_type": "code",
   "execution_count": 27,
   "outputs": [
    {
     "data": {
      "text/plain": "   Year     Month        State         County  Rate  min_wage\n0  2015  February  Mississippi  Newton County   6.1       NaN\n1  2015  February  Mississippi  Panola County   9.4       NaN\n2  2015  February  Mississippi  Monroe County   7.9       NaN\n3  2015  February  Mississippi   Hinds County   6.1       NaN\n4  2015  February  Mississippi  Kemper County  10.6       NaN",
      "text/html": "<div>\n<style scoped>\n    .dataframe tbody tr th:only-of-type {\n        vertical-align: middle;\n    }\n\n    .dataframe tbody tr th {\n        vertical-align: top;\n    }\n\n    .dataframe thead th {\n        text-align: right;\n    }\n</style>\n<table border=\"1\" class=\"dataframe\">\n  <thead>\n    <tr style=\"text-align: right;\">\n      <th></th>\n      <th>Year</th>\n      <th>Month</th>\n      <th>State</th>\n      <th>County</th>\n      <th>Rate</th>\n      <th>min_wage</th>\n    </tr>\n  </thead>\n  <tbody>\n    <tr>\n      <th>0</th>\n      <td>2015</td>\n      <td>February</td>\n      <td>Mississippi</td>\n      <td>Newton County</td>\n      <td>6.1</td>\n      <td>NaN</td>\n    </tr>\n    <tr>\n      <th>1</th>\n      <td>2015</td>\n      <td>February</td>\n      <td>Mississippi</td>\n      <td>Panola County</td>\n      <td>9.4</td>\n      <td>NaN</td>\n    </tr>\n    <tr>\n      <th>2</th>\n      <td>2015</td>\n      <td>February</td>\n      <td>Mississippi</td>\n      <td>Monroe County</td>\n      <td>7.9</td>\n      <td>NaN</td>\n    </tr>\n    <tr>\n      <th>3</th>\n      <td>2015</td>\n      <td>February</td>\n      <td>Mississippi</td>\n      <td>Hinds County</td>\n      <td>6.1</td>\n      <td>NaN</td>\n    </tr>\n    <tr>\n      <th>4</th>\n      <td>2015</td>\n      <td>February</td>\n      <td>Mississippi</td>\n      <td>Kemper County</td>\n      <td>10.6</td>\n      <td>NaN</td>\n    </tr>\n  </tbody>\n</table>\n</div>"
     },
     "metadata": {},
     "output_type": "execute_result",
     "execution_count": 27
    }
   ],
   "source": [
    "unemployment_county.head()"
   ],
   "metadata": {
    "collapsed": false,
    "pycharm": {
     "name": "#%%\n",
     "is_executing": false
    }
   }
  },
  {
   "cell_type": "code",
   "execution_count": 28,
   "outputs": [
    {
     "data": {
      "text/plain": "              Rate  min_wage\nRate      1.000000  0.153047\nmin_wage  0.153047  1.000000",
      "text/html": "<div>\n<style scoped>\n    .dataframe tbody tr th:only-of-type {\n        vertical-align: middle;\n    }\n\n    .dataframe tbody tr th {\n        vertical-align: top;\n    }\n\n    .dataframe thead th {\n        text-align: right;\n    }\n</style>\n<table border=\"1\" class=\"dataframe\">\n  <thead>\n    <tr style=\"text-align: right;\">\n      <th></th>\n      <th>Rate</th>\n      <th>min_wage</th>\n    </tr>\n  </thead>\n  <tbody>\n    <tr>\n      <th>Rate</th>\n      <td>1.000000</td>\n      <td>0.153047</td>\n    </tr>\n    <tr>\n      <th>min_wage</th>\n      <td>0.153047</td>\n      <td>1.000000</td>\n    </tr>\n  </tbody>\n</table>\n</div>"
     },
     "metadata": {},
     "output_type": "execute_result",
     "execution_count": 28
    }
   ],
   "source": [
    "# correlation\n",
    "unemployment_county[['Rate', 'min_wage']].corr()"
   ],
   "metadata": {
    "collapsed": false,
    "pycharm": {
     "name": "#%%\n",
     "is_executing": false
    }
   }
  },
  {
   "cell_type": "code",
   "execution_count": 29,
   "outputs": [
    {
     "data": {
      "text/plain": "              Rate  min_wage\nRate      9.687873  0.651586\nmin_wage  0.651586  1.874228",
      "text/html": "<div>\n<style scoped>\n    .dataframe tbody tr th:only-of-type {\n        vertical-align: middle;\n    }\n\n    .dataframe tbody tr th {\n        vertical-align: top;\n    }\n\n    .dataframe thead th {\n        text-align: right;\n    }\n</style>\n<table border=\"1\" class=\"dataframe\">\n  <thead>\n    <tr style=\"text-align: right;\">\n      <th></th>\n      <th>Rate</th>\n      <th>min_wage</th>\n    </tr>\n  </thead>\n  <tbody>\n    <tr>\n      <th>Rate</th>\n      <td>9.687873</td>\n      <td>0.651586</td>\n    </tr>\n    <tr>\n      <th>min_wage</th>\n      <td>0.651586</td>\n      <td>1.874228</td>\n    </tr>\n  </tbody>\n</table>\n</div>"
     },
     "metadata": {},
     "output_type": "execute_result",
     "execution_count": 29
    }
   ],
   "source": [
    "# covariance\n",
    "unemployment_county[['Rate', 'min_wage']].cov()"
   ],
   "metadata": {
    "collapsed": false,
    "pycharm": {
     "name": "#%%\n",
     "is_executing": false
    }
   }
  },
  {
   "cell_type": "code",
   "execution_count": 30,
   "outputs": [
    {
     "data": {
      "text/plain": "  county fips             cand  st  pct_report       votes  total_votes  \\\n0    NaN   US     Donald Trump  US      0.9951  60350241.0  127592176.0   \n1    NaN   US  Hillary Clinton  US      0.9951  60981118.0  127592176.0   \n2    NaN   US     Gary Johnson  US      0.9951   4164589.0  127592176.0   \n3    NaN   US       Jill Stein  US      0.9951   1255968.0  127592176.0   \n4    NaN   US    Evan McMullin  US      0.9951    451636.0  127592176.0   \n\n        pct          lead  \n0  0.472993  Donald Trump  \n1  0.477938  Donald Trump  \n2  0.032640  Donald Trump  \n3  0.009844  Donald Trump  \n4  0.003540  Donald Trump  ",
      "text/html": "<div>\n<style scoped>\n    .dataframe tbody tr th:only-of-type {\n        vertical-align: middle;\n    }\n\n    .dataframe tbody tr th {\n        vertical-align: top;\n    }\n\n    .dataframe thead th {\n        text-align: right;\n    }\n</style>\n<table border=\"1\" class=\"dataframe\">\n  <thead>\n    <tr style=\"text-align: right;\">\n      <th></th>\n      <th>county</th>\n      <th>fips</th>\n      <th>cand</th>\n      <th>st</th>\n      <th>pct_report</th>\n      <th>votes</th>\n      <th>total_votes</th>\n      <th>pct</th>\n      <th>lead</th>\n    </tr>\n  </thead>\n  <tbody>\n    <tr>\n      <th>0</th>\n      <td>NaN</td>\n      <td>US</td>\n      <td>Donald Trump</td>\n      <td>US</td>\n      <td>0.9951</td>\n      <td>60350241.0</td>\n      <td>127592176.0</td>\n      <td>0.472993</td>\n      <td>Donald Trump</td>\n    </tr>\n    <tr>\n      <th>1</th>\n      <td>NaN</td>\n      <td>US</td>\n      <td>Hillary Clinton</td>\n      <td>US</td>\n      <td>0.9951</td>\n      <td>60981118.0</td>\n      <td>127592176.0</td>\n      <td>0.477938</td>\n      <td>Donald Trump</td>\n    </tr>\n    <tr>\n      <th>2</th>\n      <td>NaN</td>\n      <td>US</td>\n      <td>Gary Johnson</td>\n      <td>US</td>\n      <td>0.9951</td>\n      <td>4164589.0</td>\n      <td>127592176.0</td>\n      <td>0.032640</td>\n      <td>Donald Trump</td>\n    </tr>\n    <tr>\n      <th>3</th>\n      <td>NaN</td>\n      <td>US</td>\n      <td>Jill Stein</td>\n      <td>US</td>\n      <td>0.9951</td>\n      <td>1255968.0</td>\n      <td>127592176.0</td>\n      <td>0.009844</td>\n      <td>Donald Trump</td>\n    </tr>\n    <tr>\n      <th>4</th>\n      <td>NaN</td>\n      <td>US</td>\n      <td>Evan McMullin</td>\n      <td>US</td>\n      <td>0.9951</td>\n      <td>451636.0</td>\n      <td>127592176.0</td>\n      <td>0.003540</td>\n      <td>Donald Trump</td>\n    </tr>\n  </tbody>\n</table>\n</div>"
     },
     "metadata": {},
     "output_type": "execute_result",
     "execution_count": 30
    }
   ],
   "source": [
    "pres16 = pd.read_csv('../datasets/pres16results.csv')\n",
    "pres16.head()"
   ],
   "metadata": {
    "collapsed": false,
    "pycharm": {
     "name": "#%%\n",
     "is_executing": false
    }
   }
  },
  {
   "cell_type": "code",
   "execution_count": 31,
   "outputs": [
    {
     "name": "stdout",
     "text": [
      "['Donald Trump' 'Hillary Clinton' 'Gary Johnson' 'Jill Stein'\n",
      " 'Evan McMullin' 'Darrell Castle' 'Gloria La Riva' 'Rocky De La Fuente'\n",
      " ' None of these candidates' 'Richard Duncan']\n"
     ],
     "output_type": "stream"
    }
   ],
   "source": [
    "top_candidates = pres16.head(10)['cand'].values\n",
    "print(top_candidates)"
   ],
   "metadata": {
    "collapsed": false,
    "pycharm": {
     "name": "#%%\n",
     "is_executing": false
    }
   }
  },
  {
   "cell_type": "code",
   "execution_count": 32,
   "outputs": [
    {
     "data": {
      "text/plain": "   Year     Month        State         County  Rate  min_wage\n0  2015  February  Mississippi  Newton County   6.1       NaN\n1  2015  February  Mississippi  Panola County   9.4       NaN\n2  2015  February  Mississippi  Monroe County   7.9       NaN\n3  2015  February  Mississippi   Hinds County   6.1       NaN\n4  2015  February  Mississippi  Kemper County  10.6       NaN",
      "text/html": "<div>\n<style scoped>\n    .dataframe tbody tr th:only-of-type {\n        vertical-align: middle;\n    }\n\n    .dataframe tbody tr th {\n        vertical-align: top;\n    }\n\n    .dataframe thead th {\n        text-align: right;\n    }\n</style>\n<table border=\"1\" class=\"dataframe\">\n  <thead>\n    <tr style=\"text-align: right;\">\n      <th></th>\n      <th>Year</th>\n      <th>Month</th>\n      <th>State</th>\n      <th>County</th>\n      <th>Rate</th>\n      <th>min_wage</th>\n    </tr>\n  </thead>\n  <tbody>\n    <tr>\n      <th>0</th>\n      <td>2015</td>\n      <td>February</td>\n      <td>Mississippi</td>\n      <td>Newton County</td>\n      <td>6.1</td>\n      <td>NaN</td>\n    </tr>\n    <tr>\n      <th>1</th>\n      <td>2015</td>\n      <td>February</td>\n      <td>Mississippi</td>\n      <td>Panola County</td>\n      <td>9.4</td>\n      <td>NaN</td>\n    </tr>\n    <tr>\n      <th>2</th>\n      <td>2015</td>\n      <td>February</td>\n      <td>Mississippi</td>\n      <td>Monroe County</td>\n      <td>7.9</td>\n      <td>NaN</td>\n    </tr>\n    <tr>\n      <th>3</th>\n      <td>2015</td>\n      <td>February</td>\n      <td>Mississippi</td>\n      <td>Hinds County</td>\n      <td>6.1</td>\n      <td>NaN</td>\n    </tr>\n    <tr>\n      <th>4</th>\n      <td>2015</td>\n      <td>February</td>\n      <td>Mississippi</td>\n      <td>Kemper County</td>\n      <td>10.6</td>\n      <td>NaN</td>\n    </tr>\n  </tbody>\n</table>\n</div>"
     },
     "metadata": {},
     "output_type": "execute_result",
     "execution_count": 32
    }
   ],
   "source": [
    "county_2015 = unemployment_county[(unemployment_county['Year'] == 2015) & (unemployment_county['Month'] == 'February')]\n",
    "county_2015.head()"
   ],
   "metadata": {
    "collapsed": false,
    "pycharm": {
     "name": "#%%\n",
     "is_executing": false
    }
   }
  },
  {
   "cell_type": "code",
   "execution_count": 33,
   "outputs": [
    {
     "data": {
      "text/plain": "               Abbreviation Postal Code\nState/District                         \nAlabama                Ala.          AL\nAlaska               Alaska          AK\nArizona               Ariz.          AZ\nArkansas               Ark.          AR\nCalifornia           Calif.          CA",
      "text/html": "<div>\n<style scoped>\n    .dataframe tbody tr th:only-of-type {\n        vertical-align: middle;\n    }\n\n    .dataframe tbody tr th {\n        vertical-align: top;\n    }\n\n    .dataframe thead th {\n        text-align: right;\n    }\n</style>\n<table border=\"1\" class=\"dataframe\">\n  <thead>\n    <tr style=\"text-align: right;\">\n      <th></th>\n      <th>Abbreviation</th>\n      <th>Postal Code</th>\n    </tr>\n    <tr>\n      <th>State/District</th>\n      <th></th>\n      <th></th>\n    </tr>\n  </thead>\n  <tbody>\n    <tr>\n      <th>Alabama</th>\n      <td>Ala.</td>\n      <td>AL</td>\n    </tr>\n    <tr>\n      <th>Alaska</th>\n      <td>Alaska</td>\n      <td>AK</td>\n    </tr>\n    <tr>\n      <th>Arizona</th>\n      <td>Ariz.</td>\n      <td>AZ</td>\n    </tr>\n    <tr>\n      <th>Arkansas</th>\n      <td>Ark.</td>\n      <td>AR</td>\n    </tr>\n    <tr>\n      <th>California</th>\n      <td>Calif.</td>\n      <td>CA</td>\n    </tr>\n  </tbody>\n</table>\n</div>"
     },
     "metadata": {},
     "output_type": "execute_result",
     "execution_count": 33
    }
   ],
   "source": [
    "state_abbreviations = pd.read_csv('../datasets/state_abbreviations.csv', index_col=0)\n",
    "state_abbreviations.head()"
   ],
   "metadata": {
    "collapsed": false,
    "pycharm": {
     "name": "#%%\n",
     "is_executing": false
    }
   }
  },
  {
   "cell_type": "code",
   "execution_count": 34,
   "outputs": [
    {
     "name": "stderr",
     "text": [
      "/home/shrinidhi/PycharmProjects/data-analysis/venv/lib/python3.6/site-packages/ipykernel_launcher.py:2: SettingWithCopyWarning: \n",
      "A value is trying to be set on a copy of a slice from a DataFrame.\n",
      "Try using .loc[row_indexer,col_indexer] = value instead\n",
      "\n",
      "See the caveats in the documentation: http://pandas.pydata.org/pandas-docs/stable/user_guide/indexing.html#returning-a-view-versus-a-copy\n",
      "  \n"
     ],
     "output_type": "stream"
    }
   ],
   "source": [
    "state_abbreviations_dict = state_abbreviations.to_dict()['Postal Code']\n",
    "county_2015['State'] = county_2015['State'].map(state_abbreviations_dict)"
   ],
   "metadata": {
    "collapsed": false,
    "pycharm": {
     "name": "#%%\n",
     "is_executing": false
    }
   }
  },
  {
   "cell_type": "code",
   "execution_count": 35,
   "outputs": [
    {
     "data": {
      "text/plain": "      Year     Month State              County  Rate  min_wage\n2797  2015  February    ME     Somerset County   8.4      7.92\n2798  2015  February    ME       Oxford County   6.8      7.92\n2799  2015  February    ME         Knox County   6.1      7.92\n2800  2015  February    ME  Piscataquis County   7.0      7.92\n2801  2015  February    ME    Aroostook County   7.2      7.92",
      "text/html": "<div>\n<style scoped>\n    .dataframe tbody tr th:only-of-type {\n        vertical-align: middle;\n    }\n\n    .dataframe tbody tr th {\n        vertical-align: top;\n    }\n\n    .dataframe thead th {\n        text-align: right;\n    }\n</style>\n<table border=\"1\" class=\"dataframe\">\n  <thead>\n    <tr style=\"text-align: right;\">\n      <th></th>\n      <th>Year</th>\n      <th>Month</th>\n      <th>State</th>\n      <th>County</th>\n      <th>Rate</th>\n      <th>min_wage</th>\n    </tr>\n  </thead>\n  <tbody>\n    <tr>\n      <th>2797</th>\n      <td>2015</td>\n      <td>February</td>\n      <td>ME</td>\n      <td>Somerset County</td>\n      <td>8.4</td>\n      <td>7.92</td>\n    </tr>\n    <tr>\n      <th>2798</th>\n      <td>2015</td>\n      <td>February</td>\n      <td>ME</td>\n      <td>Oxford County</td>\n      <td>6.8</td>\n      <td>7.92</td>\n    </tr>\n    <tr>\n      <th>2799</th>\n      <td>2015</td>\n      <td>February</td>\n      <td>ME</td>\n      <td>Knox County</td>\n      <td>6.1</td>\n      <td>7.92</td>\n    </tr>\n    <tr>\n      <th>2800</th>\n      <td>2015</td>\n      <td>February</td>\n      <td>ME</td>\n      <td>Piscataquis County</td>\n      <td>7.0</td>\n      <td>7.92</td>\n    </tr>\n    <tr>\n      <th>2801</th>\n      <td>2015</td>\n      <td>February</td>\n      <td>ME</td>\n      <td>Aroostook County</td>\n      <td>7.2</td>\n      <td>7.92</td>\n    </tr>\n  </tbody>\n</table>\n</div>"
     },
     "metadata": {},
     "output_type": "execute_result",
     "execution_count": 35
    }
   ],
   "source": [
    "county_2015.tail()"
   ],
   "metadata": {
    "collapsed": false,
    "pycharm": {
     "name": "#%%\n",
     "is_executing": false
    }
   }
  },
  {
   "cell_type": "code",
   "execution_count": 36,
   "outputs": [
    {
     "name": "stdout",
     "text": [
      "2802\n",
      "18475\n"
     ],
     "output_type": "stream"
    }
   ],
   "source": [
    "print(len(county_2015))\n",
    "print(len(pres16))"
   ],
   "metadata": {
    "collapsed": false,
    "pycharm": {
     "name": "#%%\n",
     "is_executing": false
    }
   }
  },
  {
   "cell_type": "code",
   "execution_count": 37,
   "outputs": [
    {
     "data": {
      "text/plain": "  County fips             cand State  pct_report       votes  total_votes  \\\n0    NaN   US     Donald Trump    US      0.9951  60350241.0  127592176.0   \n1    NaN   US  Hillary Clinton    US      0.9951  60981118.0  127592176.0   \n2    NaN   US     Gary Johnson    US      0.9951   4164589.0  127592176.0   \n3    NaN   US       Jill Stein    US      0.9951   1255968.0  127592176.0   \n4    NaN   US    Evan McMullin    US      0.9951    451636.0  127592176.0   \n\n        pct          lead  \n0  0.472993  Donald Trump  \n1  0.477938  Donald Trump  \n2  0.032640  Donald Trump  \n3  0.009844  Donald Trump  \n4  0.003540  Donald Trump  ",
      "text/html": "<div>\n<style scoped>\n    .dataframe tbody tr th:only-of-type {\n        vertical-align: middle;\n    }\n\n    .dataframe tbody tr th {\n        vertical-align: top;\n    }\n\n    .dataframe thead th {\n        text-align: right;\n    }\n</style>\n<table border=\"1\" class=\"dataframe\">\n  <thead>\n    <tr style=\"text-align: right;\">\n      <th></th>\n      <th>County</th>\n      <th>fips</th>\n      <th>cand</th>\n      <th>State</th>\n      <th>pct_report</th>\n      <th>votes</th>\n      <th>total_votes</th>\n      <th>pct</th>\n      <th>lead</th>\n    </tr>\n  </thead>\n  <tbody>\n    <tr>\n      <th>0</th>\n      <td>NaN</td>\n      <td>US</td>\n      <td>Donald Trump</td>\n      <td>US</td>\n      <td>0.9951</td>\n      <td>60350241.0</td>\n      <td>127592176.0</td>\n      <td>0.472993</td>\n      <td>Donald Trump</td>\n    </tr>\n    <tr>\n      <th>1</th>\n      <td>NaN</td>\n      <td>US</td>\n      <td>Hillary Clinton</td>\n      <td>US</td>\n      <td>0.9951</td>\n      <td>60981118.0</td>\n      <td>127592176.0</td>\n      <td>0.477938</td>\n      <td>Donald Trump</td>\n    </tr>\n    <tr>\n      <th>2</th>\n      <td>NaN</td>\n      <td>US</td>\n      <td>Gary Johnson</td>\n      <td>US</td>\n      <td>0.9951</td>\n      <td>4164589.0</td>\n      <td>127592176.0</td>\n      <td>0.032640</td>\n      <td>Donald Trump</td>\n    </tr>\n    <tr>\n      <th>3</th>\n      <td>NaN</td>\n      <td>US</td>\n      <td>Jill Stein</td>\n      <td>US</td>\n      <td>0.9951</td>\n      <td>1255968.0</td>\n      <td>127592176.0</td>\n      <td>0.009844</td>\n      <td>Donald Trump</td>\n    </tr>\n    <tr>\n      <th>4</th>\n      <td>NaN</td>\n      <td>US</td>\n      <td>Evan McMullin</td>\n      <td>US</td>\n      <td>0.9951</td>\n      <td>451636.0</td>\n      <td>127592176.0</td>\n      <td>0.003540</td>\n      <td>Donald Trump</td>\n    </tr>\n  </tbody>\n</table>\n</div>"
     },
     "metadata": {},
     "output_type": "execute_result",
     "execution_count": 37
    }
   ],
   "source": [
    "pres16.rename(columns={'county':'County', 'st': 'State'}, inplace=True)\n",
    "pres16.head()"
   ],
   "metadata": {
    "collapsed": false,
    "pycharm": {
     "name": "#%%\n",
     "is_executing": false
    }
   }
  },
  {
   "cell_type": "code",
   "execution_count": 38,
   "outputs": [
    {
     "data": {
      "text/plain": "                   pct\nCounty State          \nNaN    US     0.472993\n       CA     0.330641",
      "text/html": "<div>\n<style scoped>\n    .dataframe tbody tr th:only-of-type {\n        vertical-align: middle;\n    }\n\n    .dataframe tbody tr th {\n        vertical-align: top;\n    }\n\n    .dataframe thead th {\n        text-align: right;\n    }\n</style>\n<table border=\"1\" class=\"dataframe\">\n  <thead>\n    <tr style=\"text-align: right;\">\n      <th></th>\n      <th></th>\n      <th>pct</th>\n    </tr>\n    <tr>\n      <th>County</th>\n      <th>State</th>\n      <th></th>\n    </tr>\n  </thead>\n  <tbody>\n    <tr>\n      <th rowspan=\"2\" valign=\"top\">NaN</th>\n      <th>US</th>\n      <td>0.472993</td>\n    </tr>\n    <tr>\n      <th>CA</th>\n      <td>0.330641</td>\n    </tr>\n  </tbody>\n</table>\n</div>"
     },
     "metadata": {},
     "output_type": "execute_result",
     "execution_count": 38
    }
   ],
   "source": [
    "for df in [county_2015, pres16]:\n",
    "    df.set_index(['County', 'State'], inplace=True)\n",
    "\n",
    "pres16 = pres16[pres16['cand'] == 'Donald Trump']\n",
    "pres16 = pres16[['pct']]\n",
    "pres16.dropna(inplace=True)\n",
    "pres16.head(2)"
   ],
   "metadata": {
    "collapsed": false,
    "pycharm": {
     "name": "#%%\n",
     "is_executing": false
    }
   }
  },
  {
   "cell_type": "code",
   "execution_count": 39,
   "outputs": [
    {
     "data": {
      "text/plain": "                     Year     Month  Rate  min_wage\nCounty        State                                \nNewton County MS     2015  February   6.1       NaN\nPanola County MS     2015  February   9.4       NaN",
      "text/html": "<div>\n<style scoped>\n    .dataframe tbody tr th:only-of-type {\n        vertical-align: middle;\n    }\n\n    .dataframe tbody tr th {\n        vertical-align: top;\n    }\n\n    .dataframe thead th {\n        text-align: right;\n    }\n</style>\n<table border=\"1\" class=\"dataframe\">\n  <thead>\n    <tr style=\"text-align: right;\">\n      <th></th>\n      <th></th>\n      <th>Year</th>\n      <th>Month</th>\n      <th>Rate</th>\n      <th>min_wage</th>\n    </tr>\n    <tr>\n      <th>County</th>\n      <th>State</th>\n      <th></th>\n      <th></th>\n      <th></th>\n      <th></th>\n    </tr>\n  </thead>\n  <tbody>\n    <tr>\n      <th>Newton County</th>\n      <th>MS</th>\n      <td>2015</td>\n      <td>February</td>\n      <td>6.1</td>\n      <td>NaN</td>\n    </tr>\n    <tr>\n      <th>Panola County</th>\n      <th>MS</th>\n      <td>2015</td>\n      <td>February</td>\n      <td>9.4</td>\n      <td>NaN</td>\n    </tr>\n  </tbody>\n</table>\n</div>"
     },
     "metadata": {},
     "output_type": "execute_result",
     "execution_count": 39
    }
   ],
   "source": [
    "county_2015.head(2)"
   ],
   "metadata": {
    "collapsed": false,
    "pycharm": {
     "name": "#%%\n",
     "is_executing": false
    }
   }
  },
  {
   "cell_type": "code",
   "execution_count": 42,
   "outputs": [
    {
     "data": {
      "text/plain": "                              Month  Rate  min_wage       pct\nCounty              State                                    \nMajor County        OK     February   2.6      2.11  0.864960\nPottawatomie County OK     February   4.5      2.11  0.701342\nJohnston County     OK     February   6.5      2.11  0.770057\nJefferson County    OK     February   5.0      2.11  0.812367\nBeaver County       OK     February   2.8      2.11  0.888243",
      "text/html": "<div>\n<style scoped>\n    .dataframe tbody tr th:only-of-type {\n        vertical-align: middle;\n    }\n\n    .dataframe tbody tr th {\n        vertical-align: top;\n    }\n\n    .dataframe thead th {\n        text-align: right;\n    }\n</style>\n<table border=\"1\" class=\"dataframe\">\n  <thead>\n    <tr style=\"text-align: right;\">\n      <th></th>\n      <th></th>\n      <th>Month</th>\n      <th>Rate</th>\n      <th>min_wage</th>\n      <th>pct</th>\n    </tr>\n    <tr>\n      <th>County</th>\n      <th>State</th>\n      <th></th>\n      <th></th>\n      <th></th>\n      <th></th>\n    </tr>\n  </thead>\n  <tbody>\n    <tr>\n      <th>Major County</th>\n      <th>OK</th>\n      <td>February</td>\n      <td>2.6</td>\n      <td>2.11</td>\n      <td>0.864960</td>\n    </tr>\n    <tr>\n      <th>Pottawatomie County</th>\n      <th>OK</th>\n      <td>February</td>\n      <td>4.5</td>\n      <td>2.11</td>\n      <td>0.701342</td>\n    </tr>\n    <tr>\n      <th>Johnston County</th>\n      <th>OK</th>\n      <td>February</td>\n      <td>6.5</td>\n      <td>2.11</td>\n      <td>0.770057</td>\n    </tr>\n    <tr>\n      <th>Jefferson County</th>\n      <th>OK</th>\n      <td>February</td>\n      <td>5.0</td>\n      <td>2.11</td>\n      <td>0.812367</td>\n    </tr>\n    <tr>\n      <th>Beaver County</th>\n      <th>OK</th>\n      <td>February</td>\n      <td>2.8</td>\n      <td>2.11</td>\n      <td>0.888243</td>\n    </tr>\n  </tbody>\n</table>\n</div>"
     },
     "metadata": {},
     "output_type": "execute_result",
     "execution_count": 42
    }
   ],
   "source": [
    "all_together = county_2015.merge(pres16, on=['County', 'State'])\n",
    "all_together.dropna(inplace=True)\n",
    "all_together.drop('Year', axis=1, inplace=True)\n",
    "all_together.head()"
   ],
   "metadata": {
    "collapsed": false,
    "pycharm": {
     "name": "#%%\n",
     "is_executing": false
    }
   }
  },
  {
   "cell_type": "code",
   "execution_count": 43,
   "outputs": [
    {
     "data": {
      "text/plain": "              Rate  min_wage       pct\nRate      1.000000  0.186689 -0.085985\nmin_wage  0.186689  1.000000 -0.325036\npct      -0.085985 -0.325036  1.000000",
      "text/html": "<div>\n<style scoped>\n    .dataframe tbody tr th:only-of-type {\n        vertical-align: middle;\n    }\n\n    .dataframe tbody tr th {\n        vertical-align: top;\n    }\n\n    .dataframe thead th {\n        text-align: right;\n    }\n</style>\n<table border=\"1\" class=\"dataframe\">\n  <thead>\n    <tr style=\"text-align: right;\">\n      <th></th>\n      <th>Rate</th>\n      <th>min_wage</th>\n      <th>pct</th>\n    </tr>\n  </thead>\n  <tbody>\n    <tr>\n      <th>Rate</th>\n      <td>1.000000</td>\n      <td>0.186689</td>\n      <td>-0.085985</td>\n    </tr>\n    <tr>\n      <th>min_wage</th>\n      <td>0.186689</td>\n      <td>1.000000</td>\n      <td>-0.325036</td>\n    </tr>\n    <tr>\n      <th>pct</th>\n      <td>-0.085985</td>\n      <td>-0.325036</td>\n      <td>1.000000</td>\n    </tr>\n  </tbody>\n</table>\n</div>"
     },
     "metadata": {},
     "output_type": "execute_result",
     "execution_count": 43
    }
   ],
   "source": [
    "all_together.corr()"
   ],
   "metadata": {
    "collapsed": false,
    "pycharm": {
     "name": "#%%\n",
     "is_executing": false
    }
   }
  },
  {
   "cell_type": "code",
   "execution_count": 44,
   "outputs": [
    {
     "data": {
      "text/plain": "              Rate  min_wage       pct\nRate      5.743199  0.683870 -0.031771\nmin_wage  0.683870  2.336451 -0.076602\npct      -0.031771 -0.076602  0.023772",
      "text/html": "<div>\n<style scoped>\n    .dataframe tbody tr th:only-of-type {\n        vertical-align: middle;\n    }\n\n    .dataframe tbody tr th {\n        vertical-align: top;\n    }\n\n    .dataframe thead th {\n        text-align: right;\n    }\n</style>\n<table border=\"1\" class=\"dataframe\">\n  <thead>\n    <tr style=\"text-align: right;\">\n      <th></th>\n      <th>Rate</th>\n      <th>min_wage</th>\n      <th>pct</th>\n    </tr>\n  </thead>\n  <tbody>\n    <tr>\n      <th>Rate</th>\n      <td>5.743199</td>\n      <td>0.683870</td>\n      <td>-0.031771</td>\n    </tr>\n    <tr>\n      <th>min_wage</th>\n      <td>0.683870</td>\n      <td>2.336451</td>\n      <td>-0.076602</td>\n    </tr>\n    <tr>\n      <th>pct</th>\n      <td>-0.031771</td>\n      <td>-0.076602</td>\n      <td>0.023772</td>\n    </tr>\n  </tbody>\n</table>\n</div>"
     },
     "metadata": {},
     "output_type": "execute_result",
     "execution_count": 44
    }
   ],
   "source": [
    "all_together.cov()"
   ],
   "metadata": {
    "collapsed": false,
    "pycharm": {
     "name": "#%%\n",
     "is_executing": false
    }
   }
  }
 ],
 "metadata": {
  "kernelspec": {
   "display_name": "Python 3",
   "language": "python",
   "name": "python3"
  },
  "language_info": {
   "codemirror_mode": {
    "name": "ipython",
    "version": 2
   },
   "file_extension": ".py",
   "mimetype": "text/x-python",
   "name": "python",
   "nbconvert_exporter": "python",
   "pygments_lexer": "ipython2",
   "version": "2.7.6"
  },
  "pycharm": {
   "stem_cell": {
    "cell_type": "raw",
    "source": [],
    "metadata": {
     "collapsed": false
    }
   }
  }
 },
 "nbformat": 4,
 "nbformat_minor": 0
}