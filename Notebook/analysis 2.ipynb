{
 "cells": [
  {
   "cell_type": "code",
   "execution_count": 2,
   "metadata": {
    "collapsed": true,
    "pycharm": {
     "name": "#%%\n",
     "is_executing": false
    }
   },
   "outputs": [],
   "source": [
    "import pandas as pd"
   ]
  },
  {
   "cell_type": "code",
   "execution_count": 3,
   "outputs": [],
   "source": [
    "df = pd.read_csv('../datasets/Minimum Wage Data.csv', encoding='latin')"
   ],
   "metadata": {
    "collapsed": false,
    "pycharm": {
     "name": "#%%\n",
     "is_executing": false
    }
   }
  },
  {
   "cell_type": "code",
   "execution_count": 4,
   "outputs": [
    {
     "data": {
      "text/plain": "   Year    State           Table_Data Footnote  High.Value  Low.Value  \\\n0  1968  Alabama                  ...      NaN        0.00      0.000   \n1  1968   Alaska                 2.10      NaN        2.10      2.100   \n2  1968  Arizona  18.72 - 26.40/wk(b)      (b)        0.66      0.468   \n\n   CPI.Average  High.2018  Low.2018  \n0    34.783333       0.00      0.00  \n1    34.783333      15.12     15.12  \n2    34.783333       4.75      3.37  ",
      "text/html": "<div>\n<style scoped>\n    .dataframe tbody tr th:only-of-type {\n        vertical-align: middle;\n    }\n\n    .dataframe tbody tr th {\n        vertical-align: top;\n    }\n\n    .dataframe thead th {\n        text-align: right;\n    }\n</style>\n<table border=\"1\" class=\"dataframe\">\n  <thead>\n    <tr style=\"text-align: right;\">\n      <th></th>\n      <th>Year</th>\n      <th>State</th>\n      <th>Table_Data</th>\n      <th>Footnote</th>\n      <th>High.Value</th>\n      <th>Low.Value</th>\n      <th>CPI.Average</th>\n      <th>High.2018</th>\n      <th>Low.2018</th>\n    </tr>\n  </thead>\n  <tbody>\n    <tr>\n      <th>0</th>\n      <td>1968</td>\n      <td>Alabama</td>\n      <td>...</td>\n      <td>NaN</td>\n      <td>0.00</td>\n      <td>0.000</td>\n      <td>34.783333</td>\n      <td>0.00</td>\n      <td>0.00</td>\n    </tr>\n    <tr>\n      <th>1</th>\n      <td>1968</td>\n      <td>Alaska</td>\n      <td>2.10</td>\n      <td>NaN</td>\n      <td>2.10</td>\n      <td>2.100</td>\n      <td>34.783333</td>\n      <td>15.12</td>\n      <td>15.12</td>\n    </tr>\n    <tr>\n      <th>2</th>\n      <td>1968</td>\n      <td>Arizona</td>\n      <td>18.72 - 26.40/wk(b)</td>\n      <td>(b)</td>\n      <td>0.66</td>\n      <td>0.468</td>\n      <td>34.783333</td>\n      <td>4.75</td>\n      <td>3.37</td>\n    </tr>\n  </tbody>\n</table>\n</div>"
     },
     "metadata": {},
     "output_type": "execute_result",
     "execution_count": 4
    }
   ],
   "source": [
    "df.head(3)"
   ],
   "metadata": {
    "collapsed": false,
    "pycharm": {
     "name": "#%%\n",
     "is_executing": false
    }
   }
  },
  {
   "cell_type": "code",
   "execution_count": 5,
   "outputs": [],
   "source": [
    "# converting the dataset into utf-8 encoding and saving it in the dataset directory\n",
    "df.to_csv('../datasets/minWage.csv', encoding='utf-8')"
   ],
   "metadata": {
    "collapsed": false,
    "pycharm": {
     "name": "#%%\n",
     "is_executing": false
    }
   }
  },
  {
   "cell_type": "code",
   "execution_count": 6,
   "outputs": [
    {
     "data": {
      "text/plain": "   Unnamed: 0  Year       State           Table_Data Footnote  High.Value  \\\n0           0  1968     Alabama                  ...      NaN     0.00000   \n1           1  1968      Alaska                 2.10      NaN     2.10000   \n2           2  1968     Arizona  18.72 - 26.40/wk(b)      (b)     0.66000   \n3           3  1968    Arkansas          1.25/day(b)      (b)     0.15625   \n4           4  1968  California              1.65(b)      (b)     1.65000   \n\n   Low.Value  CPI.Average  High.2018  Low.2018  \n0    0.00000    34.783333       0.00      0.00  \n1    2.10000    34.783333      15.12     15.12  \n2    0.46800    34.783333       4.75      3.37  \n3    0.15625    34.783333       1.12      1.12  \n4    1.65000    34.783333      11.88     11.88  ",
      "text/html": "<div>\n<style scoped>\n    .dataframe tbody tr th:only-of-type {\n        vertical-align: middle;\n    }\n\n    .dataframe tbody tr th {\n        vertical-align: top;\n    }\n\n    .dataframe thead th {\n        text-align: right;\n    }\n</style>\n<table border=\"1\" class=\"dataframe\">\n  <thead>\n    <tr style=\"text-align: right;\">\n      <th></th>\n      <th>Unnamed: 0</th>\n      <th>Year</th>\n      <th>State</th>\n      <th>Table_Data</th>\n      <th>Footnote</th>\n      <th>High.Value</th>\n      <th>Low.Value</th>\n      <th>CPI.Average</th>\n      <th>High.2018</th>\n      <th>Low.2018</th>\n    </tr>\n  </thead>\n  <tbody>\n    <tr>\n      <th>0</th>\n      <td>0</td>\n      <td>1968</td>\n      <td>Alabama</td>\n      <td>...</td>\n      <td>NaN</td>\n      <td>0.00000</td>\n      <td>0.00000</td>\n      <td>34.783333</td>\n      <td>0.00</td>\n      <td>0.00</td>\n    </tr>\n    <tr>\n      <th>1</th>\n      <td>1</td>\n      <td>1968</td>\n      <td>Alaska</td>\n      <td>2.10</td>\n      <td>NaN</td>\n      <td>2.10000</td>\n      <td>2.10000</td>\n      <td>34.783333</td>\n      <td>15.12</td>\n      <td>15.12</td>\n    </tr>\n    <tr>\n      <th>2</th>\n      <td>2</td>\n      <td>1968</td>\n      <td>Arizona</td>\n      <td>18.72 - 26.40/wk(b)</td>\n      <td>(b)</td>\n      <td>0.66000</td>\n      <td>0.46800</td>\n      <td>34.783333</td>\n      <td>4.75</td>\n      <td>3.37</td>\n    </tr>\n    <tr>\n      <th>3</th>\n      <td>3</td>\n      <td>1968</td>\n      <td>Arkansas</td>\n      <td>1.25/day(b)</td>\n      <td>(b)</td>\n      <td>0.15625</td>\n      <td>0.15625</td>\n      <td>34.783333</td>\n      <td>1.12</td>\n      <td>1.12</td>\n    </tr>\n    <tr>\n      <th>4</th>\n      <td>4</td>\n      <td>1968</td>\n      <td>California</td>\n      <td>1.65(b)</td>\n      <td>(b)</td>\n      <td>1.65000</td>\n      <td>1.65000</td>\n      <td>34.783333</td>\n      <td>11.88</td>\n      <td>11.88</td>\n    </tr>\n  </tbody>\n</table>\n</div>"
     },
     "metadata": {},
     "output_type": "execute_result",
     "execution_count": 6
    }
   ],
   "source": [
    "# read the new dataset that is in utf-8 format\n",
    "df = pd.read_csv('../datasets/minWage.csv')\n",
    "df.head()"
   ],
   "metadata": {
    "collapsed": false,
    "pycharm": {
     "name": "#%%\n",
     "is_executing": false
    }
   }
  },
  {
   "cell_type": "code",
   "execution_count": 7,
   "outputs": [
    {
     "data": {
      "text/plain": "      Unnamed: 0    State Table_Data Footnote  High.Value  Low.Value  \\\nYear                                                                   \n1968           0  Alabama        ...      NaN         0.0        0.0   \n1969          55  Alabama        ...      NaN         0.0        0.0   \n1970         110  Alabama        ...      NaN         0.0        0.0   \n1971         165  Alabama        ...      NaN         0.0        0.0   \n1972         220  Alabama        ...      NaN         0.0        0.0   \n\n      CPI.Average  High.2018  Low.2018  \nYear                                    \n1968    34.783333        0.0       0.0  \n1969    36.683333        0.0       0.0  \n1970    38.825000        0.0       0.0  \n1971    40.491667        0.0       0.0  \n1972    41.816667        0.0       0.0  ",
      "text/html": "<div>\n<style scoped>\n    .dataframe tbody tr th:only-of-type {\n        vertical-align: middle;\n    }\n\n    .dataframe tbody tr th {\n        vertical-align: top;\n    }\n\n    .dataframe thead th {\n        text-align: right;\n    }\n</style>\n<table border=\"1\" class=\"dataframe\">\n  <thead>\n    <tr style=\"text-align: right;\">\n      <th></th>\n      <th>Unnamed: 0</th>\n      <th>State</th>\n      <th>Table_Data</th>\n      <th>Footnote</th>\n      <th>High.Value</th>\n      <th>Low.Value</th>\n      <th>CPI.Average</th>\n      <th>High.2018</th>\n      <th>Low.2018</th>\n    </tr>\n    <tr>\n      <th>Year</th>\n      <th></th>\n      <th></th>\n      <th></th>\n      <th></th>\n      <th></th>\n      <th></th>\n      <th></th>\n      <th></th>\n      <th></th>\n    </tr>\n  </thead>\n  <tbody>\n    <tr>\n      <th>1968</th>\n      <td>0</td>\n      <td>Alabama</td>\n      <td>...</td>\n      <td>NaN</td>\n      <td>0.0</td>\n      <td>0.0</td>\n      <td>34.783333</td>\n      <td>0.0</td>\n      <td>0.0</td>\n    </tr>\n    <tr>\n      <th>1969</th>\n      <td>55</td>\n      <td>Alabama</td>\n      <td>...</td>\n      <td>NaN</td>\n      <td>0.0</td>\n      <td>0.0</td>\n      <td>36.683333</td>\n      <td>0.0</td>\n      <td>0.0</td>\n    </tr>\n    <tr>\n      <th>1970</th>\n      <td>110</td>\n      <td>Alabama</td>\n      <td>...</td>\n      <td>NaN</td>\n      <td>0.0</td>\n      <td>0.0</td>\n      <td>38.825000</td>\n      <td>0.0</td>\n      <td>0.0</td>\n    </tr>\n    <tr>\n      <th>1971</th>\n      <td>165</td>\n      <td>Alabama</td>\n      <td>...</td>\n      <td>NaN</td>\n      <td>0.0</td>\n      <td>0.0</td>\n      <td>40.491667</td>\n      <td>0.0</td>\n      <td>0.0</td>\n    </tr>\n    <tr>\n      <th>1972</th>\n      <td>220</td>\n      <td>Alabama</td>\n      <td>...</td>\n      <td>NaN</td>\n      <td>0.0</td>\n      <td>0.0</td>\n      <td>41.816667</td>\n      <td>0.0</td>\n      <td>0.0</td>\n    </tr>\n  </tbody>\n</table>\n</div>"
     },
     "metadata": {},
     "output_type": "execute_result",
     "execution_count": 7
    }
   ],
   "source": [
    "gb = df.groupby('State')\n",
    "gb.get_group('Alabama').set_index('Year').head()"
   ],
   "metadata": {
    "collapsed": false,
    "pycharm": {
     "name": "#%%\n",
     "is_executing": false
    }
   }
  },
  {
   "cell_type": "code",
   "execution_count": 8,
   "outputs": [
    {
     "data": {
      "text/plain": "      Alabama  Alaska  Arizona  Arkansas  California  Colorado  Connecticut  \\\nYear                                                                          \n1968      0.0   15.12     3.37      1.12       11.88      7.20        10.08   \n1969      0.0   14.33     3.19      1.07       11.26      6.83         9.56   \n1970      0.0   13.54     3.02      7.09       10.64      6.45        10.32   \n1971      0.0   12.99     2.89      6.80       10.20      6.18         9.89   \n1972      0.0   12.57     2.80      7.19        9.88      5.99        11.08   \n\n      Delaware  District of Columbia  Federal (FLSA)  ...  Tennessee  Texas  \\\nYear                                                  ...                     \n1968      9.00                  9.00            8.28  ...        0.0   0.00   \n1969      8.53                  8.53            7.85  ...        0.0   0.00   \n1970      8.06                 10.32            8.38  ...        0.0   0.00   \n1971      7.73                  9.89            8.04  ...        0.0   0.00   \n1972      9.58                  9.58            9.58  ...        0.0   8.38   \n\n      U.S. Virgin Islands  Utah  Vermont  Virginia  Washington  West Virginia  \\\nYear                                                                            \n1968                  NaN  7.20    10.08       0.0       11.52           7.20   \n1969                  NaN  6.83     9.56       0.0       10.92           6.83   \n1970                  NaN  6.45    10.32       0.0       10.32           6.45   \n1971                  NaN  6.18     9.89       0.0        9.89           6.18   \n1972                  NaN  7.19     9.58       0.0        9.58           7.19   \n\n      Wisconsin  Wyoming  \nYear                      \n1968       9.00     8.64  \n1969       8.53     8.19  \n1970       8.38     8.38  \n1971       8.04     8.04  \n1972       8.68     8.98  \n\n[5 rows x 55 columns]",
      "text/html": "<div>\n<style scoped>\n    .dataframe tbody tr th:only-of-type {\n        vertical-align: middle;\n    }\n\n    .dataframe tbody tr th {\n        vertical-align: top;\n    }\n\n    .dataframe thead th {\n        text-align: right;\n    }\n</style>\n<table border=\"1\" class=\"dataframe\">\n  <thead>\n    <tr style=\"text-align: right;\">\n      <th></th>\n      <th>Alabama</th>\n      <th>Alaska</th>\n      <th>Arizona</th>\n      <th>Arkansas</th>\n      <th>California</th>\n      <th>Colorado</th>\n      <th>Connecticut</th>\n      <th>Delaware</th>\n      <th>District of Columbia</th>\n      <th>Federal (FLSA)</th>\n      <th>...</th>\n      <th>Tennessee</th>\n      <th>Texas</th>\n      <th>U.S. Virgin Islands</th>\n      <th>Utah</th>\n      <th>Vermont</th>\n      <th>Virginia</th>\n      <th>Washington</th>\n      <th>West Virginia</th>\n      <th>Wisconsin</th>\n      <th>Wyoming</th>\n    </tr>\n    <tr>\n      <th>Year</th>\n      <th></th>\n      <th></th>\n      <th></th>\n      <th></th>\n      <th></th>\n      <th></th>\n      <th></th>\n      <th></th>\n      <th></th>\n      <th></th>\n      <th></th>\n      <th></th>\n      <th></th>\n      <th></th>\n      <th></th>\n      <th></th>\n      <th></th>\n      <th></th>\n      <th></th>\n      <th></th>\n      <th></th>\n    </tr>\n  </thead>\n  <tbody>\n    <tr>\n      <th>1968</th>\n      <td>0.0</td>\n      <td>15.12</td>\n      <td>3.37</td>\n      <td>1.12</td>\n      <td>11.88</td>\n      <td>7.20</td>\n      <td>10.08</td>\n      <td>9.00</td>\n      <td>9.00</td>\n      <td>8.28</td>\n      <td>...</td>\n      <td>0.0</td>\n      <td>0.00</td>\n      <td>NaN</td>\n      <td>7.20</td>\n      <td>10.08</td>\n      <td>0.0</td>\n      <td>11.52</td>\n      <td>7.20</td>\n      <td>9.00</td>\n      <td>8.64</td>\n    </tr>\n    <tr>\n      <th>1969</th>\n      <td>0.0</td>\n      <td>14.33</td>\n      <td>3.19</td>\n      <td>1.07</td>\n      <td>11.26</td>\n      <td>6.83</td>\n      <td>9.56</td>\n      <td>8.53</td>\n      <td>8.53</td>\n      <td>7.85</td>\n      <td>...</td>\n      <td>0.0</td>\n      <td>0.00</td>\n      <td>NaN</td>\n      <td>6.83</td>\n      <td>9.56</td>\n      <td>0.0</td>\n      <td>10.92</td>\n      <td>6.83</td>\n      <td>8.53</td>\n      <td>8.19</td>\n    </tr>\n    <tr>\n      <th>1970</th>\n      <td>0.0</td>\n      <td>13.54</td>\n      <td>3.02</td>\n      <td>7.09</td>\n      <td>10.64</td>\n      <td>6.45</td>\n      <td>10.32</td>\n      <td>8.06</td>\n      <td>10.32</td>\n      <td>8.38</td>\n      <td>...</td>\n      <td>0.0</td>\n      <td>0.00</td>\n      <td>NaN</td>\n      <td>6.45</td>\n      <td>10.32</td>\n      <td>0.0</td>\n      <td>10.32</td>\n      <td>6.45</td>\n      <td>8.38</td>\n      <td>8.38</td>\n    </tr>\n    <tr>\n      <th>1971</th>\n      <td>0.0</td>\n      <td>12.99</td>\n      <td>2.89</td>\n      <td>6.80</td>\n      <td>10.20</td>\n      <td>6.18</td>\n      <td>9.89</td>\n      <td>7.73</td>\n      <td>9.89</td>\n      <td>8.04</td>\n      <td>...</td>\n      <td>0.0</td>\n      <td>0.00</td>\n      <td>NaN</td>\n      <td>6.18</td>\n      <td>9.89</td>\n      <td>0.0</td>\n      <td>9.89</td>\n      <td>6.18</td>\n      <td>8.04</td>\n      <td>8.04</td>\n    </tr>\n    <tr>\n      <th>1972</th>\n      <td>0.0</td>\n      <td>12.57</td>\n      <td>2.80</td>\n      <td>7.19</td>\n      <td>9.88</td>\n      <td>5.99</td>\n      <td>11.08</td>\n      <td>9.58</td>\n      <td>9.58</td>\n      <td>9.58</td>\n      <td>...</td>\n      <td>0.0</td>\n      <td>8.38</td>\n      <td>NaN</td>\n      <td>7.19</td>\n      <td>9.58</td>\n      <td>0.0</td>\n      <td>9.58</td>\n      <td>7.19</td>\n      <td>8.68</td>\n      <td>8.98</td>\n    </tr>\n  </tbody>\n</table>\n<p>5 rows × 55 columns</p>\n</div>"
     },
     "metadata": {},
     "output_type": "execute_result",
     "execution_count": 8
    }
   ],
   "source": [
    "act_min_wage = pd.DataFrame()\n",
    "\n",
    "for name, group in df.groupby('State'):\n",
    "    if act_min_wage.empty:\n",
    "        act_min_wage = group.set_index('Year')[['Low.2018']].rename(columns={'Low.2018':name})\n",
    "    \n",
    "    else:\n",
    "        act_min_wage = act_min_wage.join(group.set_index('Year')[['Low.2018']].rename(columns={'Low.2018':name}))\n",
    "        \n",
    "act_min_wage.head()"
   ],
   "metadata": {
    "collapsed": false,
    "pycharm": {
     "name": "#%%\n",
     "is_executing": false
    }
   }
  },
  {
   "cell_type": "code",
   "execution_count": 9,
   "outputs": [
    {
     "data": {
      "text/plain": "       Alabama     Alaska    Arizona   Arkansas  California   Colorado  \\\ncount     50.0  50.000000  50.000000  50.000000   50.000000  50.000000   \nmean       0.0   9.583800   2.316200   6.781600    8.632800   6.389800   \nstd        0.0   1.845176   3.474504   1.341223    1.187508   1.521052   \nmin        0.0   7.380000   0.000000   1.070000    6.420000   3.840000   \n25%        0.0   8.252500   0.000000   6.522500    7.695000   5.072500   \n50%        0.0   8.890000   0.000000   6.920000    8.670000   6.375000   \n75%        0.0  10.492500   3.147500   7.290000    9.307500   7.677500   \nmax        0.0  15.120000  10.220000   8.680000   11.880000   9.500000   \n\n       Connecticut   Delaware  District of Columbia  Federal (FLSA)  ...  \\\ncount    50.000000  50.000000             50.000000       50.000000  ...   \nmean      8.823600   7.498800              8.343200        7.773200  ...   \nstd       1.023613   1.265436              1.476133        0.887354  ...   \nmin       6.820000   4.410000              5.510000        6.220000  ...   \n25%       7.865000   7.015000              7.097500        7.172500  ...   \n50%       9.075000   7.845000              8.510000        7.655000  ...   \n75%       9.455000   8.327500              9.140000        8.242500  ...   \nmax      11.080000   9.580000             12.000000       10.010000  ...   \n\n       Tennessee      Texas  U.S. Virgin Islands       Utah    Vermont  \\\ncount       50.0  50.000000            39.000000  50.000000  50.000000   \nmean         0.0   5.541200             6.643590   6.836600   8.657400   \nstd          0.0   2.202229             1.590176   0.819367   0.984647   \nmin          0.0   0.000000             4.390000   4.790000   6.800000   \n25%          0.0   4.762500             5.105000   6.317500   7.800000   \n50%          0.0   6.070000             6.770000   6.930000   8.885000   \n75%          0.0   7.105000             7.830000   7.470000   9.372500   \nmax          0.0   8.380000            10.010000   8.330000  10.320000   \n\n        Virginia  Washington  West Virginia  Wisconsin    Wyoming  \ncount  50.000000   50.000000      50.000000  50.000000  50.000000  \nmean    5.897400    8.301800       7.166400   7.694200   5.149200  \nstd     2.726151    1.868613       0.793673   0.762675   1.998928  \nmin     0.000000    4.410000       5.580000   6.420000   2.260000  \n25%     5.892500    7.227500       6.630000   7.107500   3.270000  \n50%     6.855000    9.055000       7.075000   7.580000   5.445000  \n75%     7.620000    9.672500       7.612500   8.145000   6.607500  \nmax     8.800000   11.520000       9.130000   9.660000   8.980000  \n\n[8 rows x 55 columns]",
      "text/html": "<div>\n<style scoped>\n    .dataframe tbody tr th:only-of-type {\n        vertical-align: middle;\n    }\n\n    .dataframe tbody tr th {\n        vertical-align: top;\n    }\n\n    .dataframe thead th {\n        text-align: right;\n    }\n</style>\n<table border=\"1\" class=\"dataframe\">\n  <thead>\n    <tr style=\"text-align: right;\">\n      <th></th>\n      <th>Alabama</th>\n      <th>Alaska</th>\n      <th>Arizona</th>\n      <th>Arkansas</th>\n      <th>California</th>\n      <th>Colorado</th>\n      <th>Connecticut</th>\n      <th>Delaware</th>\n      <th>District of Columbia</th>\n      <th>Federal (FLSA)</th>\n      <th>...</th>\n      <th>Tennessee</th>\n      <th>Texas</th>\n      <th>U.S. Virgin Islands</th>\n      <th>Utah</th>\n      <th>Vermont</th>\n      <th>Virginia</th>\n      <th>Washington</th>\n      <th>West Virginia</th>\n      <th>Wisconsin</th>\n      <th>Wyoming</th>\n    </tr>\n  </thead>\n  <tbody>\n    <tr>\n      <th>count</th>\n      <td>50.0</td>\n      <td>50.000000</td>\n      <td>50.000000</td>\n      <td>50.000000</td>\n      <td>50.000000</td>\n      <td>50.000000</td>\n      <td>50.000000</td>\n      <td>50.000000</td>\n      <td>50.000000</td>\n      <td>50.000000</td>\n      <td>...</td>\n      <td>50.0</td>\n      <td>50.000000</td>\n      <td>39.000000</td>\n      <td>50.000000</td>\n      <td>50.000000</td>\n      <td>50.000000</td>\n      <td>50.000000</td>\n      <td>50.000000</td>\n      <td>50.000000</td>\n      <td>50.000000</td>\n    </tr>\n    <tr>\n      <th>mean</th>\n      <td>0.0</td>\n      <td>9.583800</td>\n      <td>2.316200</td>\n      <td>6.781600</td>\n      <td>8.632800</td>\n      <td>6.389800</td>\n      <td>8.823600</td>\n      <td>7.498800</td>\n      <td>8.343200</td>\n      <td>7.773200</td>\n      <td>...</td>\n      <td>0.0</td>\n      <td>5.541200</td>\n      <td>6.643590</td>\n      <td>6.836600</td>\n      <td>8.657400</td>\n      <td>5.897400</td>\n      <td>8.301800</td>\n      <td>7.166400</td>\n      <td>7.694200</td>\n      <td>5.149200</td>\n    </tr>\n    <tr>\n      <th>std</th>\n      <td>0.0</td>\n      <td>1.845176</td>\n      <td>3.474504</td>\n      <td>1.341223</td>\n      <td>1.187508</td>\n      <td>1.521052</td>\n      <td>1.023613</td>\n      <td>1.265436</td>\n      <td>1.476133</td>\n      <td>0.887354</td>\n      <td>...</td>\n      <td>0.0</td>\n      <td>2.202229</td>\n      <td>1.590176</td>\n      <td>0.819367</td>\n      <td>0.984647</td>\n      <td>2.726151</td>\n      <td>1.868613</td>\n      <td>0.793673</td>\n      <td>0.762675</td>\n      <td>1.998928</td>\n    </tr>\n    <tr>\n      <th>min</th>\n      <td>0.0</td>\n      <td>7.380000</td>\n      <td>0.000000</td>\n      <td>1.070000</td>\n      <td>6.420000</td>\n      <td>3.840000</td>\n      <td>6.820000</td>\n      <td>4.410000</td>\n      <td>5.510000</td>\n      <td>6.220000</td>\n      <td>...</td>\n      <td>0.0</td>\n      <td>0.000000</td>\n      <td>4.390000</td>\n      <td>4.790000</td>\n      <td>6.800000</td>\n      <td>0.000000</td>\n      <td>4.410000</td>\n      <td>5.580000</td>\n      <td>6.420000</td>\n      <td>2.260000</td>\n    </tr>\n    <tr>\n      <th>25%</th>\n      <td>0.0</td>\n      <td>8.252500</td>\n      <td>0.000000</td>\n      <td>6.522500</td>\n      <td>7.695000</td>\n      <td>5.072500</td>\n      <td>7.865000</td>\n      <td>7.015000</td>\n      <td>7.097500</td>\n      <td>7.172500</td>\n      <td>...</td>\n      <td>0.0</td>\n      <td>4.762500</td>\n      <td>5.105000</td>\n      <td>6.317500</td>\n      <td>7.800000</td>\n      <td>5.892500</td>\n      <td>7.227500</td>\n      <td>6.630000</td>\n      <td>7.107500</td>\n      <td>3.270000</td>\n    </tr>\n    <tr>\n      <th>50%</th>\n      <td>0.0</td>\n      <td>8.890000</td>\n      <td>0.000000</td>\n      <td>6.920000</td>\n      <td>8.670000</td>\n      <td>6.375000</td>\n      <td>9.075000</td>\n      <td>7.845000</td>\n      <td>8.510000</td>\n      <td>7.655000</td>\n      <td>...</td>\n      <td>0.0</td>\n      <td>6.070000</td>\n      <td>6.770000</td>\n      <td>6.930000</td>\n      <td>8.885000</td>\n      <td>6.855000</td>\n      <td>9.055000</td>\n      <td>7.075000</td>\n      <td>7.580000</td>\n      <td>5.445000</td>\n    </tr>\n    <tr>\n      <th>75%</th>\n      <td>0.0</td>\n      <td>10.492500</td>\n      <td>3.147500</td>\n      <td>7.290000</td>\n      <td>9.307500</td>\n      <td>7.677500</td>\n      <td>9.455000</td>\n      <td>8.327500</td>\n      <td>9.140000</td>\n      <td>8.242500</td>\n      <td>...</td>\n      <td>0.0</td>\n      <td>7.105000</td>\n      <td>7.830000</td>\n      <td>7.470000</td>\n      <td>9.372500</td>\n      <td>7.620000</td>\n      <td>9.672500</td>\n      <td>7.612500</td>\n      <td>8.145000</td>\n      <td>6.607500</td>\n    </tr>\n    <tr>\n      <th>max</th>\n      <td>0.0</td>\n      <td>15.120000</td>\n      <td>10.220000</td>\n      <td>8.680000</td>\n      <td>11.880000</td>\n      <td>9.500000</td>\n      <td>11.080000</td>\n      <td>9.580000</td>\n      <td>12.000000</td>\n      <td>10.010000</td>\n      <td>...</td>\n      <td>0.0</td>\n      <td>8.380000</td>\n      <td>10.010000</td>\n      <td>8.330000</td>\n      <td>10.320000</td>\n      <td>8.800000</td>\n      <td>11.520000</td>\n      <td>9.130000</td>\n      <td>9.660000</td>\n      <td>8.980000</td>\n    </tr>\n  </tbody>\n</table>\n<p>8 rows × 55 columns</p>\n</div>"
     },
     "metadata": {},
     "output_type": "execute_result",
     "execution_count": 9
    }
   ],
   "source": [
    "act_min_wage.describe()"
   ],
   "metadata": {
    "collapsed": false,
    "pycharm": {
     "name": "#%%\n",
     "is_executing": false
    }
   }
  },
  {
   "cell_type": "code",
   "execution_count": 10,
   "outputs": [
    {
     "data": {
      "text/plain": "            Alabama    Alaska   Arizona  Arkansas  California  Colorado  \\\nAlabama         NaN       NaN       NaN       NaN         NaN       NaN   \nAlaska          NaN  1.000000  0.018638 -0.377934    0.717653 -0.129332   \nArizona         NaN  0.018638  1.000000  0.089395    0.498994  0.742527   \nArkansas        NaN -0.377934  0.089395  1.000000   -0.234367  0.135749   \nCalifornia      NaN  0.717653  0.498994 -0.234367    1.000000  0.483313   \n\n            Connecticut  Delaware  District of Columbia  Federal (FLSA)  ...  \\\nAlabama             NaN       NaN                   NaN             NaN  ...   \nAlaska         0.680886  0.258997              0.321785        0.637679  ...   \nArizona        0.458163  0.429836              0.590848       -0.049914  ...   \nArkansas       0.047580  0.016125              0.266889        0.117245  ...   \nCalifornia     0.876215  0.479197              0.596865        0.371966  ...   \n\n            Tennessee     Texas  U.S. Virgin Islands      Utah   Vermont  \\\nAlabama           NaN       NaN                  NaN       NaN       NaN   \nAlaska            NaN -0.522472             0.277016 -0.020462  0.663558   \nArizona           NaN  0.369900            -0.758607  0.439344  0.517960   \nArkansas          NaN  0.503242            -0.204485  0.194680  0.087429   \nCalifornia        NaN -0.239533            -0.417782  0.392898  0.877922   \n\n            Virginia  Washington  West Virginia  Wisconsin   Wyoming  \nAlabama          NaN         NaN            NaN        NaN       NaN  \nAlaska     -0.601640    0.411593       0.044814   0.702570  0.727932  \nArizona     0.047405    0.587975       0.584596   0.131588  0.346528  \nArkansas    0.582192   -0.072343       0.420819   0.000470 -0.250592  \nCalifornia -0.326364    0.754085       0.371765   0.584067  0.722617  \n\n[5 rows x 55 columns]",
      "text/html": "<div>\n<style scoped>\n    .dataframe tbody tr th:only-of-type {\n        vertical-align: middle;\n    }\n\n    .dataframe tbody tr th {\n        vertical-align: top;\n    }\n\n    .dataframe thead th {\n        text-align: right;\n    }\n</style>\n<table border=\"1\" class=\"dataframe\">\n  <thead>\n    <tr style=\"text-align: right;\">\n      <th></th>\n      <th>Alabama</th>\n      <th>Alaska</th>\n      <th>Arizona</th>\n      <th>Arkansas</th>\n      <th>California</th>\n      <th>Colorado</th>\n      <th>Connecticut</th>\n      <th>Delaware</th>\n      <th>District of Columbia</th>\n      <th>Federal (FLSA)</th>\n      <th>...</th>\n      <th>Tennessee</th>\n      <th>Texas</th>\n      <th>U.S. Virgin Islands</th>\n      <th>Utah</th>\n      <th>Vermont</th>\n      <th>Virginia</th>\n      <th>Washington</th>\n      <th>West Virginia</th>\n      <th>Wisconsin</th>\n      <th>Wyoming</th>\n    </tr>\n  </thead>\n  <tbody>\n    <tr>\n      <th>Alabama</th>\n      <td>NaN</td>\n      <td>NaN</td>\n      <td>NaN</td>\n      <td>NaN</td>\n      <td>NaN</td>\n      <td>NaN</td>\n      <td>NaN</td>\n      <td>NaN</td>\n      <td>NaN</td>\n      <td>NaN</td>\n      <td>...</td>\n      <td>NaN</td>\n      <td>NaN</td>\n      <td>NaN</td>\n      <td>NaN</td>\n      <td>NaN</td>\n      <td>NaN</td>\n      <td>NaN</td>\n      <td>NaN</td>\n      <td>NaN</td>\n      <td>NaN</td>\n    </tr>\n    <tr>\n      <th>Alaska</th>\n      <td>NaN</td>\n      <td>1.000000</td>\n      <td>0.018638</td>\n      <td>-0.377934</td>\n      <td>0.717653</td>\n      <td>-0.129332</td>\n      <td>0.680886</td>\n      <td>0.258997</td>\n      <td>0.321785</td>\n      <td>0.637679</td>\n      <td>...</td>\n      <td>NaN</td>\n      <td>-0.522472</td>\n      <td>0.277016</td>\n      <td>-0.020462</td>\n      <td>0.663558</td>\n      <td>-0.601640</td>\n      <td>0.411593</td>\n      <td>0.044814</td>\n      <td>0.702570</td>\n      <td>0.727932</td>\n    </tr>\n    <tr>\n      <th>Arizona</th>\n      <td>NaN</td>\n      <td>0.018638</td>\n      <td>1.000000</td>\n      <td>0.089395</td>\n      <td>0.498994</td>\n      <td>0.742527</td>\n      <td>0.458163</td>\n      <td>0.429836</td>\n      <td>0.590848</td>\n      <td>-0.049914</td>\n      <td>...</td>\n      <td>NaN</td>\n      <td>0.369900</td>\n      <td>-0.758607</td>\n      <td>0.439344</td>\n      <td>0.517960</td>\n      <td>0.047405</td>\n      <td>0.587975</td>\n      <td>0.584596</td>\n      <td>0.131588</td>\n      <td>0.346528</td>\n    </tr>\n    <tr>\n      <th>Arkansas</th>\n      <td>NaN</td>\n      <td>-0.377934</td>\n      <td>0.089395</td>\n      <td>1.000000</td>\n      <td>-0.234367</td>\n      <td>0.135749</td>\n      <td>0.047580</td>\n      <td>0.016125</td>\n      <td>0.266889</td>\n      <td>0.117245</td>\n      <td>...</td>\n      <td>NaN</td>\n      <td>0.503242</td>\n      <td>-0.204485</td>\n      <td>0.194680</td>\n      <td>0.087429</td>\n      <td>0.582192</td>\n      <td>-0.072343</td>\n      <td>0.420819</td>\n      <td>0.000470</td>\n      <td>-0.250592</td>\n    </tr>\n    <tr>\n      <th>California</th>\n      <td>NaN</td>\n      <td>0.717653</td>\n      <td>0.498994</td>\n      <td>-0.234367</td>\n      <td>1.000000</td>\n      <td>0.483313</td>\n      <td>0.876215</td>\n      <td>0.479197</td>\n      <td>0.596865</td>\n      <td>0.371966</td>\n      <td>...</td>\n      <td>NaN</td>\n      <td>-0.239533</td>\n      <td>-0.417782</td>\n      <td>0.392898</td>\n      <td>0.877922</td>\n      <td>-0.326364</td>\n      <td>0.754085</td>\n      <td>0.371765</td>\n      <td>0.584067</td>\n      <td>0.722617</td>\n    </tr>\n  </tbody>\n</table>\n<p>5 rows × 55 columns</p>\n</div>"
     },
     "metadata": {},
     "output_type": "execute_result",
     "execution_count": 10
    }
   ],
   "source": [
    "act_min_wage.corr().head()"
   ],
   "metadata": {
    "collapsed": false,
    "pycharm": {
     "name": "#%%\n",
     "is_executing": false
    }
   }
  },
  {
   "cell_type": "code",
   "execution_count": 11,
   "outputs": [
    {
     "data": {
      "text/plain": "array(['Alabama', 'Florida', 'Georgia', 'Illinois', 'Iowa', 'Kansas',\n       'Louisiana', 'Mississippi', 'Missouri', 'Montana',\n       'South Carolina', 'Tennessee', 'Texas', 'Virginia', 'Arizona'],\n      dtype=object)"
     },
     "metadata": {},
     "output_type": "execute_result",
     "execution_count": 11
    }
   ],
   "source": [
    "issue_df = df[df['Low.2018'] == 0]\n",
    "issue_df.head()\n",
    "issue_df['State'].unique()"
   ],
   "metadata": {
    "collapsed": false,
    "pycharm": {
     "name": "#%%\n",
     "is_executing": false
    }
   }
  },
  {
   "cell_type": "code",
   "execution_count": 12,
   "outputs": [
    {
     "data": {
      "text/plain": "               Alaska  Arkansas  California  Colorado  Connecticut  Delaware  \\\nAlaska       1.000000 -0.377934    0.717653 -0.129332     0.680886  0.258997   \nArkansas    -0.377934  1.000000   -0.234367  0.135749     0.047580  0.016125   \nCalifornia   0.717653 -0.234367    1.000000  0.483313     0.876215  0.479197   \nColorado    -0.129332  0.135749    0.483313  1.000000     0.402020  0.566304   \nConnecticut  0.680886  0.047580    0.876215  0.402020     1.000000  0.552613   \n\n             District of Columbia  Federal (FLSA)      Guam    Hawaii  ...  \\\nAlaska                   0.321785        0.637679  0.787915  0.672620  ...   \nArkansas                 0.266889        0.117245  0.039593  0.204801  ...   \nCalifornia               0.596865        0.371966  0.492052  0.519241  ...   \nColorado                 0.673371       -0.232035 -0.192616  0.069800  ...   \nConnecticut              0.652488        0.487750  0.632073  0.621503  ...   \n\n             Pennsylvania  Puerto Rico  Rhode Island  South Dakota      Utah  \\\nAlaska           0.610814    -0.038118      0.652353     -0.326316 -0.020462   \nArkansas         0.159923     0.232186      0.003498      0.800116  0.194680   \nCalifornia       0.429061     0.512712      0.780916     -0.036787  0.392898   \nColorado        -0.136195     0.657364      0.429852      0.399137  0.622330   \nConnecticut      0.531769     0.626712      0.802485      0.105707  0.302538   \n\n              Vermont  Washington  West Virginia  Wisconsin   Wyoming  \nAlaska       0.663558    0.411593       0.044814   0.702570  0.727932  \nArkansas     0.087429   -0.072343       0.420819   0.000470 -0.250592  \nCalifornia   0.877922    0.754085       0.371765   0.584067  0.722617  \nColorado     0.448485    0.612637       0.533623   0.011501  0.130053  \nConnecticut  0.898469    0.715691       0.400099   0.585790  0.814971  \n\n[5 rows x 39 columns]",
      "text/html": "<div>\n<style scoped>\n    .dataframe tbody tr th:only-of-type {\n        vertical-align: middle;\n    }\n\n    .dataframe tbody tr th {\n        vertical-align: top;\n    }\n\n    .dataframe thead th {\n        text-align: right;\n    }\n</style>\n<table border=\"1\" class=\"dataframe\">\n  <thead>\n    <tr style=\"text-align: right;\">\n      <th></th>\n      <th>Alaska</th>\n      <th>Arkansas</th>\n      <th>California</th>\n      <th>Colorado</th>\n      <th>Connecticut</th>\n      <th>Delaware</th>\n      <th>District of Columbia</th>\n      <th>Federal (FLSA)</th>\n      <th>Guam</th>\n      <th>Hawaii</th>\n      <th>...</th>\n      <th>Pennsylvania</th>\n      <th>Puerto Rico</th>\n      <th>Rhode Island</th>\n      <th>South Dakota</th>\n      <th>Utah</th>\n      <th>Vermont</th>\n      <th>Washington</th>\n      <th>West Virginia</th>\n      <th>Wisconsin</th>\n      <th>Wyoming</th>\n    </tr>\n  </thead>\n  <tbody>\n    <tr>\n      <th>Alaska</th>\n      <td>1.000000</td>\n      <td>-0.377934</td>\n      <td>0.717653</td>\n      <td>-0.129332</td>\n      <td>0.680886</td>\n      <td>0.258997</td>\n      <td>0.321785</td>\n      <td>0.637679</td>\n      <td>0.787915</td>\n      <td>0.672620</td>\n      <td>...</td>\n      <td>0.610814</td>\n      <td>-0.038118</td>\n      <td>0.652353</td>\n      <td>-0.326316</td>\n      <td>-0.020462</td>\n      <td>0.663558</td>\n      <td>0.411593</td>\n      <td>0.044814</td>\n      <td>0.702570</td>\n      <td>0.727932</td>\n    </tr>\n    <tr>\n      <th>Arkansas</th>\n      <td>-0.377934</td>\n      <td>1.000000</td>\n      <td>-0.234367</td>\n      <td>0.135749</td>\n      <td>0.047580</td>\n      <td>0.016125</td>\n      <td>0.266889</td>\n      <td>0.117245</td>\n      <td>0.039593</td>\n      <td>0.204801</td>\n      <td>...</td>\n      <td>0.159923</td>\n      <td>0.232186</td>\n      <td>0.003498</td>\n      <td>0.800116</td>\n      <td>0.194680</td>\n      <td>0.087429</td>\n      <td>-0.072343</td>\n      <td>0.420819</td>\n      <td>0.000470</td>\n      <td>-0.250592</td>\n    </tr>\n    <tr>\n      <th>California</th>\n      <td>0.717653</td>\n      <td>-0.234367</td>\n      <td>1.000000</td>\n      <td>0.483313</td>\n      <td>0.876215</td>\n      <td>0.479197</td>\n      <td>0.596865</td>\n      <td>0.371966</td>\n      <td>0.492052</td>\n      <td>0.519241</td>\n      <td>...</td>\n      <td>0.429061</td>\n      <td>0.512712</td>\n      <td>0.780916</td>\n      <td>-0.036787</td>\n      <td>0.392898</td>\n      <td>0.877922</td>\n      <td>0.754085</td>\n      <td>0.371765</td>\n      <td>0.584067</td>\n      <td>0.722617</td>\n    </tr>\n    <tr>\n      <th>Colorado</th>\n      <td>-0.129332</td>\n      <td>0.135749</td>\n      <td>0.483313</td>\n      <td>1.000000</td>\n      <td>0.402020</td>\n      <td>0.566304</td>\n      <td>0.673371</td>\n      <td>-0.232035</td>\n      <td>-0.192616</td>\n      <td>0.069800</td>\n      <td>...</td>\n      <td>-0.136195</td>\n      <td>0.657364</td>\n      <td>0.429852</td>\n      <td>0.399137</td>\n      <td>0.622330</td>\n      <td>0.448485</td>\n      <td>0.612637</td>\n      <td>0.533623</td>\n      <td>0.011501</td>\n      <td>0.130053</td>\n    </tr>\n    <tr>\n      <th>Connecticut</th>\n      <td>0.680886</td>\n      <td>0.047580</td>\n      <td>0.876215</td>\n      <td>0.402020</td>\n      <td>1.000000</td>\n      <td>0.552613</td>\n      <td>0.652488</td>\n      <td>0.487750</td>\n      <td>0.632073</td>\n      <td>0.621503</td>\n      <td>...</td>\n      <td>0.531769</td>\n      <td>0.626712</td>\n      <td>0.802485</td>\n      <td>0.105707</td>\n      <td>0.302538</td>\n      <td>0.898469</td>\n      <td>0.715691</td>\n      <td>0.400099</td>\n      <td>0.585790</td>\n      <td>0.814971</td>\n    </tr>\n  </tbody>\n</table>\n<p>5 rows × 39 columns</p>\n</div>"
     },
     "metadata": {},
     "output_type": "execute_result",
     "execution_count": 12
    }
   ],
   "source": [
    "# remove all those data which for some reason have NaN\n",
    "import numpy as np\n",
    "min_wage_corr = act_min_wage.replace(0, np.NaN).dropna(axis=1).corr().head()\n",
    "min_wage_corr"
   ],
   "metadata": {
    "collapsed": false,
    "pycharm": {
     "name": "#%%\n",
     "is_executing": false
    }
   }
  },
  {
   "cell_type": "code",
   "execution_count": 13,
   "outputs": [],
   "source": [
    "for problem in issue_df['State'].unique():\n",
    "    if problem in min_wage_corr.columns:\n",
    "        print('We are missing something here...')"
   ],
   "metadata": {
    "collapsed": false,
    "pycharm": {
     "name": "#%%\n",
     "is_executing": false
    }
   }
  },
  {
   "cell_type": "code",
   "execution_count": 14,
   "outputs": [
    {
     "data": {
      "text/plain": "     Unnamed: 0  Year    State Table_Data Footnote  High.Value  Low.Value  \\\n0             0  1968  Alabama        ...      NaN         0.0        0.0   \n55           55  1969  Alabama        ...      NaN         0.0        0.0   \n110         110  1970  Alabama        ...      NaN         0.0        0.0   \n\n     CPI.Average  High.2018  Low.2018  \n0      34.783333        0.0       0.0  \n55     36.683333        0.0       0.0  \n110    38.825000        0.0       0.0  ",
      "text/html": "<div>\n<style scoped>\n    .dataframe tbody tr th:only-of-type {\n        vertical-align: middle;\n    }\n\n    .dataframe tbody tr th {\n        vertical-align: top;\n    }\n\n    .dataframe thead th {\n        text-align: right;\n    }\n</style>\n<table border=\"1\" class=\"dataframe\">\n  <thead>\n    <tr style=\"text-align: right;\">\n      <th></th>\n      <th>Unnamed: 0</th>\n      <th>Year</th>\n      <th>State</th>\n      <th>Table_Data</th>\n      <th>Footnote</th>\n      <th>High.Value</th>\n      <th>Low.Value</th>\n      <th>CPI.Average</th>\n      <th>High.2018</th>\n      <th>Low.2018</th>\n    </tr>\n  </thead>\n  <tbody>\n    <tr>\n      <th>0</th>\n      <td>0</td>\n      <td>1968</td>\n      <td>Alabama</td>\n      <td>...</td>\n      <td>NaN</td>\n      <td>0.0</td>\n      <td>0.0</td>\n      <td>34.783333</td>\n      <td>0.0</td>\n      <td>0.0</td>\n    </tr>\n    <tr>\n      <th>55</th>\n      <td>55</td>\n      <td>1969</td>\n      <td>Alabama</td>\n      <td>...</td>\n      <td>NaN</td>\n      <td>0.0</td>\n      <td>0.0</td>\n      <td>36.683333</td>\n      <td>0.0</td>\n      <td>0.0</td>\n    </tr>\n    <tr>\n      <th>110</th>\n      <td>110</td>\n      <td>1970</td>\n      <td>Alabama</td>\n      <td>...</td>\n      <td>NaN</td>\n      <td>0.0</td>\n      <td>0.0</td>\n      <td>38.825000</td>\n      <td>0.0</td>\n      <td>0.0</td>\n    </tr>\n  </tbody>\n</table>\n</div>"
     },
     "metadata": {},
     "output_type": "execute_result",
     "execution_count": 14
    }
   ],
   "source": [
    "grouped_issues = issue_df.groupby('State')\n",
    "grouped_issues.get_group('Alabama').head(3)"
   ],
   "metadata": {
    "collapsed": false,
    "pycharm": {
     "name": "#%%\n",
     "is_executing": false
    }
   }
  },
  {
   "cell_type": "code",
   "execution_count": 15,
   "outputs": [
    {
     "data": {
      "text/plain": "0.0"
     },
     "metadata": {},
     "output_type": "execute_result",
     "execution_count": 15
    }
   ],
   "source": [
    "grouped_issues.get_group('Alabama')['Low.2018'].sum()"
   ],
   "metadata": {
    "collapsed": false,
    "pycharm": {
     "name": "#%%\n",
     "is_executing": false
    }
   }
  },
  {
   "cell_type": "code",
   "execution_count": 16,
   "outputs": [],
   "source": [
    "for state, data in grouped_issues:\n",
    "    if data['Low.2018'].sum() != 0.0:\n",
    "        print('We missed something!')"
   ],
   "metadata": {
    "collapsed": false,
    "pycharm": {
     "name": "#%%\n",
     "is_executing": false
    }
   }
  },
  {
   "cell_type": "markdown",
   "source": [
    "### Visualization"
   ],
   "metadata": {
    "collapsed": false,
    "pycharm": {
     "name": "#%% md\n"
    }
   }
  },
  {
   "cell_type": "code",
   "execution_count": 18,
   "outputs": [],
   "source": [
    "import matplotlib.pyplot as plt"
   ],
   "metadata": {
    "collapsed": false,
    "pycharm": {
     "name": "#%%\n",
     "is_executing": false
    }
   }
  },
  {
   "cell_type": "code",
   "execution_count": 20,
   "outputs": [
    {
     "data": {
      "text/plain": "<matplotlib.image.AxesImage at 0x7f41588b7240>"
     },
     "metadata": {},
     "output_type": "execute_result",
     "execution_count": 20
    },
    {
     "data": {
      "text/plain": "<Figure size 1152x147.692 with 1 Axes>",
      "image/png": "[encoded data removed]"
     },
     "metadata": {
      "needs_background": "light"
     },
     "output_type": "display_data"
    }
   ],
   "source": [
    "plt.matshow(min_wage_corr)"
   ],
   "metadata": {
    "collapsed": false,
    "pycharm": {
     "name": "#%%\n",
     "is_executing": false
    }
   }
  },
  {
   "cell_type": "code",
   "execution_count": 28,
   "outputs": [
    {
     "data": {
      "text/plain": "<Figure size 864x864 with 1 Axes>",
      "image/png": "[encoded data removed]"
     },
     "metadata": {
      "needs_background": "light"
     },
     "output_type": "display_data"
    }
   ],
   "source": [
    "labels = [c[:2] for c in min_wage_corr.columns]\n",
    "\n",
    "fig = plt.figure(figsize=(12,12))\n",
    "ax = fig.add_subplot(111)\n",
    "ax.matshow(min_wage_corr, cmap=plt.cm.RdYlGn)\n",
    "\n",
    "ax.set_xticks(np.arange(len(labels)))\n",
    "ax.set_yticks(np.arange(len(labels)))\n",
    "\n",
    "ax.set_yticklabels(labels)\n",
    "ax.set_xticklabels(labels)\n",
    "\n",
    "plt.show()"
   ],
   "metadata": {
    "collapsed": false,
    "pycharm": {
     "name": "#%%\n",
     "is_executing": false
    }
   }
  },
  {
   "cell_type": "code",
   "execution_count": 29,
   "outputs": [
    {
     "data": {
      "text/plain": "['Al',\n 'Ar',\n 'Ca',\n 'Co',\n 'Co',\n 'De',\n 'Di',\n 'Fe',\n 'Gu',\n 'Ha',\n 'Id',\n 'In',\n 'Ke',\n 'Ma',\n 'Ma',\n 'Ma',\n 'Mi',\n 'Mi',\n 'Ne',\n 'Ne',\n 'Ne',\n 'Ne',\n 'Ne',\n 'Ne',\n 'No',\n 'No',\n 'Oh',\n 'Ok',\n 'Or',\n 'Pe',\n 'Pu',\n 'Rh',\n 'So',\n 'Ut',\n 'Ve',\n 'Wa',\n 'We',\n 'Wi',\n 'Wy']"
     },
     "metadata": {},
     "output_type": "execute_result",
     "execution_count": 29
    }
   ],
   "source": [
    "labels"
   ],
   "metadata": {
    "collapsed": false,
    "pycharm": {
     "name": "#%%\n",
     "is_executing": false
    }
   }
  },
  {
   "cell_type": "code",
   "execution_count": 30,
   "outputs": [],
   "source": [
    "import requests\n",
    "\n",
    "web = requests.get('https://www.infoplease.com/state-abbreviations-and-state-postal-codes')\n",
    "\n",
    "dfs = pd.read_html(web.text)"
   ],
   "metadata": {
    "collapsed": false,
    "pycharm": {
     "name": "#%%\n",
     "is_executing": false
    }
   }
  },
  {
   "cell_type": "code",
   "execution_count": 31,
   "outputs": [
    {
     "name": "stdout",
     "text": [
      "  State/District Abbreviation Postal Code\n",
      "0        Alabama         Ala.          AL\n",
      "1         Alaska       Alaska          AK\n",
      "2        Arizona        Ariz.          AZ\n",
      "3       Arkansas         Ark.          AR\n",
      "4     California       Calif.          CA\n",
      "  Territory/Associate Abbreviation Postal Code\n",
      "0      American Samoa          NaN          AS\n",
      "1                Guam         Guam          GU\n",
      "2    Marshall Islands          NaN          MH\n",
      "3          Micronesia          NaN          FM\n",
      "4   Northern Marianas          NaN          MP\n"
     ],
     "output_type": "stream"
    }
   ],
   "source": [
    "for df in dfs:\n",
    "    print(df.head())"
   ],
   "metadata": {
    "collapsed": false,
    "pycharm": {
     "name": "#%%\n",
     "is_executing": false
    }
   }
  },
  {
   "cell_type": "code",
   "execution_count": 32,
   "outputs": [
    {
     "data": {
      "text/plain": "  State/District Abbreviation Postal Code\n0        Alabama         Ala.          AL\n1         Alaska       Alaska          AK\n2        Arizona        Ariz.          AZ\n3       Arkansas         Ark.          AR\n4     California       Calif.          CA",
      "text/html": "<div>\n<style scoped>\n    .dataframe tbody tr th:only-of-type {\n        vertical-align: middle;\n    }\n\n    .dataframe tbody tr th {\n        vertical-align: top;\n    }\n\n    .dataframe thead th {\n        text-align: right;\n    }\n</style>\n<table border=\"1\" class=\"dataframe\">\n  <thead>\n    <tr style=\"text-align: right;\">\n      <th></th>\n      <th>State/District</th>\n      <th>Abbreviation</th>\n      <th>Postal Code</th>\n    </tr>\n  </thead>\n  <tbody>\n    <tr>\n      <th>0</th>\n      <td>Alabama</td>\n      <td>Ala.</td>\n      <td>AL</td>\n    </tr>\n    <tr>\n      <th>1</th>\n      <td>Alaska</td>\n      <td>Alaska</td>\n      <td>AK</td>\n    </tr>\n    <tr>\n      <th>2</th>\n      <td>Arizona</td>\n      <td>Ariz.</td>\n      <td>AZ</td>\n    </tr>\n    <tr>\n      <th>3</th>\n      <td>Arkansas</td>\n      <td>Ark.</td>\n      <td>AR</td>\n    </tr>\n    <tr>\n      <th>4</th>\n      <td>California</td>\n      <td>Calif.</td>\n      <td>CA</td>\n    </tr>\n  </tbody>\n</table>\n</div>"
     },
     "metadata": {},
     "output_type": "execute_result",
     "execution_count": 32
    }
   ],
   "source": [
    "state_abbreviations = dfs[0]\n",
    "state_abbreviations.head()"
   ],
   "metadata": {
    "collapsed": false,
    "pycharm": {
     "name": "#%%\n",
     "is_executing": false
    }
   }
  },
  {
   "cell_type": "code",
   "execution_count": 34,
   "outputs": [],
   "source": [
    "state_abbreviations.to_csv('../datasets/state_abbreviations.csv', index=False)"
   ],
   "metadata": {
    "collapsed": false,
    "pycharm": {
     "name": "#%%\n",
     "is_executing": false
    }
   }
  },
  {
   "cell_type": "code",
   "execution_count": 35,
   "outputs": [
    {
     "data": {
      "text/plain": "               Abbreviation Postal Code\nState/District                         \nAlabama                Ala.          AL\nAlaska               Alaska          AK\nArizona               Ariz.          AZ\nArkansas               Ark.          AR\nCalifornia           Calif.          CA",
      "text/html": "<div>\n<style scoped>\n    .dataframe tbody tr th:only-of-type {\n        vertical-align: middle;\n    }\n\n    .dataframe tbody tr th {\n        vertical-align: top;\n    }\n\n    .dataframe thead th {\n        text-align: right;\n    }\n</style>\n<table border=\"1\" class=\"dataframe\">\n  <thead>\n    <tr style=\"text-align: right;\">\n      <th></th>\n      <th>Abbreviation</th>\n      <th>Postal Code</th>\n    </tr>\n    <tr>\n      <th>State/District</th>\n      <th></th>\n      <th></th>\n    </tr>\n  </thead>\n  <tbody>\n    <tr>\n      <th>Alabama</th>\n      <td>Ala.</td>\n      <td>AL</td>\n    </tr>\n    <tr>\n      <th>Alaska</th>\n      <td>Alaska</td>\n      <td>AK</td>\n    </tr>\n    <tr>\n      <th>Arizona</th>\n      <td>Ariz.</td>\n      <td>AZ</td>\n    </tr>\n    <tr>\n      <th>Arkansas</th>\n      <td>Ark.</td>\n      <td>AR</td>\n    </tr>\n    <tr>\n      <th>California</th>\n      <td>Calif.</td>\n      <td>CA</td>\n    </tr>\n  </tbody>\n</table>\n</div>"
     },
     "metadata": {},
     "output_type": "execute_result",
     "execution_count": 35
    }
   ],
   "source": [
    "state_abbreviations = pd.read_csv('../datasets/state_abbreviations.csv', index_col=0)\n",
    "state_abbreviations.head()"
   ],
   "metadata": {
    "collapsed": false,
    "pycharm": {
     "name": "#%%\n",
     "is_executing": false
    }
   }
  },
  {
   "cell_type": "code",
   "execution_count": 41,
   "outputs": [
    {
     "data": {
      "text/plain": "{'Postal Code': {'Alabama': 'AL',\n  'Alaska': 'AK',\n  'Arizona': 'AZ',\n  'Arkansas': 'AR',\n  'California': 'CA',\n  'Colorado': 'CO',\n  'Connecticut': 'CT',\n  'Delaware': 'DE',\n  'District of Columbia': 'DC',\n  'Florida': 'FL',\n  'Georgia': 'GA',\n  'Hawaii': 'HI',\n  'Idaho': 'ID',\n  'Illinois': 'IL',\n  'Indiana': 'IN',\n  'Iowa': 'IA',\n  'Kansas': 'KS',\n  'Kentucky': 'KY',\n  'Louisiana': 'LA',\n  'Maine': 'ME',\n  'Maryland': 'MD',\n  'Massachusetts': 'MA',\n  'Michigan': 'MI',\n  'Minnesota': 'MN',\n  'Mississippi': 'MS',\n  'Missouri': 'MO',\n  'Montana': 'MT',\n  'Nebraska': 'NE',\n  'Nevada': 'NV',\n  'New Hampshire': 'NH',\n  'New Jersey': 'NJ',\n  'New Mexico': 'NM',\n  'New York': 'NY',\n  'North Carolina': 'NC',\n  'North Dakota': 'ND',\n  'Ohio': 'OH',\n  'Oklahoma': 'OK',\n  'Oregon': 'OR',\n  'Pennsylvania': 'PA',\n  'Rhode Island': 'RI',\n  'South Carolina': 'SC',\n  'South Dakota': 'SD',\n  'Tennessee': 'TN',\n  'Texas': 'TX',\n  'Utah': 'UT',\n  'Vermont': 'VT',\n  'Virginia': 'VA',\n  'Washington': 'WA',\n  'West Virginia': 'WV',\n  'Wisconsin': 'WI',\n  'Wyoming': 'WY'}}"
     },
     "metadata": {},
     "output_type": "execute_result",
     "execution_count": 41
    }
   ],
   "source": [
    "abbreviations_dict = state_abbreviations[['Postal Code']].to_dict()\n",
    "abbreviations_dict"
   ],
   "metadata": {
    "collapsed": false,
    "pycharm": {
     "name": "#%%\n",
     "is_executing": false
    }
   }
  },
  {
   "cell_type": "code",
   "execution_count": 48,
   "outputs": [
    {
     "data": {
      "text/plain": "<Figure size 864x864 with 1 Axes>",
      "image/png": "[encoded data removed]"
     },
     "metadata": {
      "needs_background": "light"
     },
     "output_type": "display_data"
    }
   ],
   "source": [
    "fig = plt.figure(figsize=(12,12))\n",
    "ax = fig.add_subplot(111)\n",
    "ax.matshow(min_wage_corr, cmap=plt.cm.RdYlGn)\n",
    "\n",
    "ax.set_xticks(np.arange(len(labels)))\n",
    "ax.set_yticks(np.arange(len(labels)))\n",
    "\n",
    "ax.set_yticklabels(labels)\n",
    "ax.set_xticklabels(labels)\n",
    "\n",
    "plt.show()"
   ],
   "metadata": {
    "collapsed": false,
    "pycharm": {
     "name": "#%%\n",
     "is_executing": false
    }
   }
  }
 ],
 "metadata": {
  "kernelspec": {
   "display_name": "Python 3",
   "language": "python",
   "name": "python3"
  },
  "language_info": {
   "codemirror_mode": {
    "name": "ipython",
    "version": 2
   },
   "file_extension": ".py",
   "mimetype": "text/x-python",
   "name": "python",
   "nbconvert_exporter": "python",
   "pygments_lexer": "ipython2",
   "version": "2.7.6"
  },
  "pycharm": {
   "stem_cell": {
    "cell_type": "raw",
    "source": [],
    "metadata": {
     "collapsed": false
    }
   }
  }
 },
 "nbformat": 4,
 "nbformat_minor": 0
}