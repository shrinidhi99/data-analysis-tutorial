{
 "cells": [
  {
   "cell_type": "code",
   "execution_count": 1,
   "metadata": {
    "collapsed": true,
    "pycharm": {
     "is_executing": false
    }
   },
   "outputs": [],
   "source": [
    "import pandas as pd"
   ]
  },
  {
   "cell_type": "code",
   "execution_count": 9,
   "outputs": [
    {
     "data": {
      "text/plain": "   carat      cut color clarity  depth  table  price     x     y     z\n1   0.23    Ideal     E     SI2   61.5   55.0    326  3.95  3.98  2.43\n2   0.21  Premium     E     SI1   59.8   61.0    326  3.89  3.84  2.31\n3   0.23     Good     E     VS1   56.9   65.0    327  4.05  4.07  2.31\n4   0.29  Premium     I     VS2   62.4   58.0    334  4.20  4.23  2.63\n5   0.31     Good     J     SI2   63.3   58.0    335  4.34  4.35  2.75",
      "text/html": "<div>\n<style scoped>\n    .dataframe tbody tr th:only-of-type {\n        vertical-align: middle;\n    }\n\n    .dataframe tbody tr th {\n        vertical-align: top;\n    }\n\n    .dataframe thead th {\n        text-align: right;\n    }\n</style>\n<table border=\"1\" class=\"dataframe\">\n  <thead>\n    <tr style=\"text-align: right;\">\n      <th></th>\n      <th>carat</th>\n      <th>cut</th>\n      <th>color</th>\n      <th>clarity</th>\n      <th>depth</th>\n      <th>table</th>\n      <th>price</th>\n      <th>x</th>\n      <th>y</th>\n      <th>z</th>\n    </tr>\n  </thead>\n  <tbody>\n    <tr>\n      <th>1</th>\n      <td>0.23</td>\n      <td>Ideal</td>\n      <td>E</td>\n      <td>SI2</td>\n      <td>61.5</td>\n      <td>55.0</td>\n      <td>326</td>\n      <td>3.95</td>\n      <td>3.98</td>\n      <td>2.43</td>\n    </tr>\n    <tr>\n      <th>2</th>\n      <td>0.21</td>\n      <td>Premium</td>\n      <td>E</td>\n      <td>SI1</td>\n      <td>59.8</td>\n      <td>61.0</td>\n      <td>326</td>\n      <td>3.89</td>\n      <td>3.84</td>\n      <td>2.31</td>\n    </tr>\n    <tr>\n      <th>3</th>\n      <td>0.23</td>\n      <td>Good</td>\n      <td>E</td>\n      <td>VS1</td>\n      <td>56.9</td>\n      <td>65.0</td>\n      <td>327</td>\n      <td>4.05</td>\n      <td>4.07</td>\n      <td>2.31</td>\n    </tr>\n    <tr>\n      <th>4</th>\n      <td>0.29</td>\n      <td>Premium</td>\n      <td>I</td>\n      <td>VS2</td>\n      <td>62.4</td>\n      <td>58.0</td>\n      <td>334</td>\n      <td>4.20</td>\n      <td>4.23</td>\n      <td>2.63</td>\n    </tr>\n    <tr>\n      <th>5</th>\n      <td>0.31</td>\n      <td>Good</td>\n      <td>J</td>\n      <td>SI2</td>\n      <td>63.3</td>\n      <td>58.0</td>\n      <td>335</td>\n      <td>4.34</td>\n      <td>4.35</td>\n      <td>2.75</td>\n    </tr>\n  </tbody>\n</table>\n</div>"
     },
     "metadata": {},
     "output_type": "execute_result",
     "execution_count": 9
    }
   ],
   "source": [
    "df = pd.read_csv('../datasets/diamonds.csv', index_col=0)\n",
    "df.head()"
   ],
   "metadata": {
    "collapsed": false,
    "pycharm": {
     "name": "#%%\n",
     "is_executing": false
    }
   }
  },
  {
   "cell_type": "code",
   "execution_count": 10,
   "outputs": [
    {
     "data": {
      "text/plain": "array(['Ideal', 'Premium', 'Good', 'Very Good', 'Fair'], dtype=object)"
     },
     "metadata": {},
     "output_type": "execute_result",
     "execution_count": 10
    }
   ],
   "source": [
    "df['cut'].unique()"
   ],
   "metadata": {
    "collapsed": false,
    "pycharm": {
     "name": "#%%\n",
     "is_executing": false
    }
   }
  },
  {
   "cell_type": "code",
   "execution_count": 11,
   "outputs": [
    {
     "data": {
      "text/plain": "   carat  cut  color  clarity  depth  table  price     x     y     z\n1   0.23    5      6        4   61.5   55.0    326  3.95  3.98  2.43\n2   0.21    4      6        5   59.8   61.0    326  3.89  3.84  2.31\n3   0.23    2      6        7   56.9   65.0    327  4.05  4.07  2.31\n4   0.29    4      2        6   62.4   58.0    334  4.20  4.23  2.63\n5   0.31    2      1        4   63.3   58.0    335  4.34  4.35  2.75",
      "text/html": "<div>\n<style scoped>\n    .dataframe tbody tr th:only-of-type {\n        vertical-align: middle;\n    }\n\n    .dataframe tbody tr th {\n        vertical-align: top;\n    }\n\n    .dataframe thead th {\n        text-align: right;\n    }\n</style>\n<table border=\"1\" class=\"dataframe\">\n  <thead>\n    <tr style=\"text-align: right;\">\n      <th></th>\n      <th>carat</th>\n      <th>cut</th>\n      <th>color</th>\n      <th>clarity</th>\n      <th>depth</th>\n      <th>table</th>\n      <th>price</th>\n      <th>x</th>\n      <th>y</th>\n      <th>z</th>\n    </tr>\n  </thead>\n  <tbody>\n    <tr>\n      <th>1</th>\n      <td>0.23</td>\n      <td>5</td>\n      <td>6</td>\n      <td>4</td>\n      <td>61.5</td>\n      <td>55.0</td>\n      <td>326</td>\n      <td>3.95</td>\n      <td>3.98</td>\n      <td>2.43</td>\n    </tr>\n    <tr>\n      <th>2</th>\n      <td>0.21</td>\n      <td>4</td>\n      <td>6</td>\n      <td>5</td>\n      <td>59.8</td>\n      <td>61.0</td>\n      <td>326</td>\n      <td>3.89</td>\n      <td>3.84</td>\n      <td>2.31</td>\n    </tr>\n    <tr>\n      <th>3</th>\n      <td>0.23</td>\n      <td>2</td>\n      <td>6</td>\n      <td>7</td>\n      <td>56.9</td>\n      <td>65.0</td>\n      <td>327</td>\n      <td>4.05</td>\n      <td>4.07</td>\n      <td>2.31</td>\n    </tr>\n    <tr>\n      <th>4</th>\n      <td>0.29</td>\n      <td>4</td>\n      <td>2</td>\n      <td>6</td>\n      <td>62.4</td>\n      <td>58.0</td>\n      <td>334</td>\n      <td>4.20</td>\n      <td>4.23</td>\n      <td>2.63</td>\n    </tr>\n    <tr>\n      <th>5</th>\n      <td>0.31</td>\n      <td>2</td>\n      <td>1</td>\n      <td>4</td>\n      <td>63.3</td>\n      <td>58.0</td>\n      <td>335</td>\n      <td>4.34</td>\n      <td>4.35</td>\n      <td>2.75</td>\n    </tr>\n  </tbody>\n</table>\n</div>"
     },
     "metadata": {},
     "output_type": "execute_result",
     "execution_count": 11
    }
   ],
   "source": [
    "# create dictionary\n",
    "cut_class_dict = {\"Fair\": 1, \"Good\": 2, \"Very Good\": 3, \"Premium\": 4, \"Ideal\": 5}\n",
    "clarity_dict = {\"I3\": 1, \"I2\": 2, \"I1\": 3, \"SI2\": 4, \"SI1\": 5, \"VS2\": 6, \"VS1\": 7, \"VVS2\": 8, \"VVS1\": 9, \"IF\": 10, \"FL\": 11}\n",
    "color_dict = {\"J\": 1,\"I\": 2,\"H\": 3,\"G\": 4,\"F\": 5,\"E\": 6,\"D\": 7}\n",
    "\n",
    "df['cut'] = df['cut'].map(cut_class_dict)\n",
    "df['clarity'] = df['clarity'].map(clarity_dict)\n",
    "df['color'] = df['color'].map(color_dict)\n",
    "\n",
    "df.head()"
   ],
   "metadata": {
    "collapsed": false,
    "pycharm": {
     "name": "#%%\n",
     "is_executing": false
    }
   }
  },
  {
   "cell_type": "code",
   "execution_count": 16,
   "outputs": [],
   "source": [
    "import sklearn\n",
    "from sklearn import svm, preprocessing"
   ],
   "metadata": {
    "collapsed": false,
    "pycharm": {
     "name": "#%%\n",
     "is_executing": false
    }
   }
  },
  {
   "cell_type": "code",
   "execution_count": 19,
   "outputs": [
    {
     "data": {
      "text/plain": "SVR(C=1.0, cache_size=200, coef0=0.0, degree=3, epsilon=0.1, gamma='scale',\n    kernel='linear', max_iter=-1, shrinking=True, tol=0.001, verbose=False)"
     },
     "metadata": {},
     "output_type": "execute_result",
     "execution_count": 19
    }
   ],
   "source": [
    "df = sklearn.utils.shuffle(df)\n",
    "\n",
    "X = df.drop('price', axis=1).values\n",
    "X = preprocessing.scale(X)\n",
    "y = df['price'].values\n",
    "\n",
    "test_size = 200\n",
    "\n",
    "X_train = X[:-test_size]\n",
    "y_train = y[:-test_size]\n",
    "\n",
    "X_test = X[-test_size:]\n",
    "y_test = y[-test_size:]\n",
    "\n",
    "clf = svm.SVR(kernel='linear')\n",
    "clf.fit(X_train, y_train)"
   ],
   "metadata": {
    "collapsed": false,
    "pycharm": {
     "name": "#%%\n",
     "is_executing": false
    }
   }
  },
  {
   "cell_type": "code",
   "execution_count": 20,
   "outputs": [
    {
     "data": {
      "text/plain": "0.8672466448115043"
     },
     "metadata": {},
     "output_type": "execute_result",
     "execution_count": 20
    }
   ],
   "source": [
    "clf.score(X_test, y_test)"
   ],
   "metadata": {
    "collapsed": false,
    "pycharm": {
     "name": "#%%\n",
     "is_executing": false
    }
   }
  },
  {
   "cell_type": "code",
   "execution_count": 21,
   "outputs": [
    {
     "name": "stdout",
     "text": [
      "Model: 198.22314466250282, Actual: 776\n",
      "Model: 4911.555198240467, Actual: 3763\n",
      "Model: 4701.036421847554, Actual: 4102\n",
      "Model: 12543.250444533702, Actual: 18760\n",
      "Model: 4234.152243467452, Actual: 4234\n",
      "Model: 1162.3988495766243, Actual: 1000\n",
      "Model: 3238.6732584972337, Actual: 2444\n",
      "Model: 6719.089973642544, Actual: 8557\n",
      "Model: 9569.97167095251, Actual: 9165\n",
      "Model: 5589.91852074186, Actual: 4044\n",
      "Model: 1324.6978488712066, Actual: 1076\n",
      "Model: 2198.497667668706, Actual: 2218\n",
      "Model: 6195.305680314427, Actual: 7273\n",
      "Model: 448.75392099497503, Actual: 687\n",
      "Model: 879.3981636291387, Actual: 982\n",
      "Model: 664.8223386705249, Actual: 926\n",
      "Model: 4910.414391590085, Actual: 5784\n",
      "Model: 6904.513263664132, Actual: 7222\n",
      "Model: 13451.01147447138, Actual: 14220\n",
      "Model: 5232.34386195492, Actual: 5495\n",
      "Model: 556.444822640965, Actual: 878\n",
      "Model: 1597.8168299265226, Actual: 1206\n",
      "Model: 333.369045192042, Actual: 844\n",
      "Model: 3457.7056532224774, Actual: 2720\n",
      "Model: 2646.215775811962, Actual: 1250\n",
      "Model: 11951.24814501402, Actual: 17570\n",
      "Model: 5802.934917353547, Actual: 5518\n",
      "Model: 3227.48309483471, Actual: 2623\n",
      "Model: 1995.4051843363904, Actual: 1601\n",
      "Model: 1947.3746314465034, Actual: 1715\n",
      "Model: 5395.209880305103, Actual: 5266\n",
      "Model: 3640.69742078425, Actual: 2964\n",
      "Model: 5808.680134393675, Actual: 6087\n",
      "Model: 8747.097723010138, Actual: 8363\n",
      "Model: 2690.337180483514, Actual: 2299\n",
      "Model: 1259.979951214049, Actual: 1020\n",
      "Model: 1505.632644333767, Actual: 1181\n",
      "Model: 2538.8904813734725, Actual: 2109\n",
      "Model: 2625.661330072486, Actual: 2360\n",
      "Model: 1793.543338161923, Actual: 1720\n",
      "Model: 228.58969951024483, Actual: 844\n",
      "Model: 5196.437124261442, Actual: 7277\n",
      "Model: 13058.250585499138, Actual: 17224\n",
      "Model: 257.48206499694334, Actual: 532\n",
      "Model: 399.1318799417245, Actual: 684\n",
      "Model: 3623.6161160976594, Actual: 2279\n",
      "Model: 1640.9631782012575, Actual: 1654\n",
      "Model: 9095.830701379793, Actual: 14482\n",
      "Model: -177.05348972310594, Actual: 588\n",
      "Model: 1259.0514860884582, Actual: 1128\n",
      "Model: 556.1928190655685, Actual: 942\n",
      "Model: 5172.92287852176, Actual: 4764\n",
      "Model: 2402.4991109244766, Actual: 1874\n",
      "Model: 3320.749139499885, Actual: 3001\n",
      "Model: 8351.71128400649, Actual: 11163\n",
      "Model: 8794.562773311662, Actual: 9478\n",
      "Model: 187.64633144071104, Actual: 666\n",
      "Model: 4357.0876476984095, Actual: 2942\n",
      "Model: 1015.0570158074411, Actual: 988\n",
      "Model: 2214.9746383548636, Actual: 1940\n",
      "Model: 6459.659602197324, Actual: 9641\n",
      "Model: 2457.3200054701947, Actual: 2383\n",
      "Model: 1867.9750041200407, Actual: 1815\n",
      "Model: 4172.112005006961, Actual: 3634\n",
      "Model: 1593.437611609907, Actual: 1752\n",
      "Model: 4841.240771661724, Actual: 4073\n",
      "Model: 1555.5206406891598, Actual: 1142\n",
      "Model: 11948.119584741873, Actual: 12907\n",
      "Model: 7355.68459553662, Actual: 10028\n",
      "Model: 998.1224088837021, Actual: 744\n",
      "Model: 30.802851939091397, Actual: 484\n",
      "Model: 4766.230852128876, Actual: 4824\n",
      "Model: 966.4006543770643, Actual: 1021\n",
      "Model: 5222.917386774567, Actual: 6516\n",
      "Model: 1319.7587411011918, Actual: 1073\n",
      "Model: 2932.1204020349633, Actual: 2541\n",
      "Model: 4919.851865917783, Actual: 4318\n",
      "Model: 1291.8795946476057, Actual: 964\n",
      "Model: 10143.630380664772, Actual: 15197\n",
      "Model: 4094.6042266995705, Actual: 3992\n",
      "Model: -45.80496369720095, Actual: 526\n",
      "Model: 5114.260367839926, Actual: 6680\n",
      "Model: 785.0805362334754, Actual: 1080\n",
      "Model: 293.6598401837723, Actual: 730\n",
      "Model: 1289.3312296958597, Actual: 1031\n",
      "Model: 1164.7071927991406, Actual: 891\n",
      "Model: 646.2316285195184, Actual: 826\n",
      "Model: 6045.326488851662, Actual: 5739\n",
      "Model: 101.41531417395481, Actual: 562\n",
      "Model: 1629.5970807296046, Actual: 1243\n",
      "Model: 12286.395645916511, Actual: 12633\n",
      "Model: 138.02011303735026, Actual: 538\n",
      "Model: 8555.735769872083, Actual: 12014\n",
      "Model: 4151.214303028975, Actual: 4369\n",
      "Model: 6389.198780385969, Actual: 5998\n",
      "Model: 4952.14619187881, Actual: 3936\n",
      "Model: 1914.8741087403996, Actual: 1310\n",
      "Model: 8911.047681075983, Actual: 12948\n",
      "Model: 8781.853899471398, Actual: 17663\n",
      "Model: 374.5208593595662, Actual: 878\n",
      "Model: 401.4422574232208, Actual: 765\n",
      "Model: 4787.771440035899, Actual: 5484\n",
      "Model: 4181.248432410161, Actual: 3277\n",
      "Model: 1139.444791916012, Actual: 863\n",
      "Model: 1014.5151662525, Actual: 1035\n",
      "Model: 1880.459054785242, Actual: 1308\n",
      "Model: 2080.873364188127, Actual: 1643\n",
      "Model: 10464.712670187311, Actual: 10730\n",
      "Model: 55.964239652284505, Actual: 490\n",
      "Model: 2966.3933637447767, Actual: 2842\n",
      "Model: 3675.152861010312, Actual: 3486\n",
      "Model: 1523.5289873071579, Actual: 1569\n",
      "Model: 847.6412080162145, Actual: 951\n",
      "Model: 1492.589068705799, Actual: 1224\n",
      "Model: 9674.437258059968, Actual: 12089\n",
      "Model: 3301.578639899186, Actual: 3016\n",
      "Model: 2886.4805016945797, Actual: 3343\n",
      "Model: 1227.726600396722, Actual: 873\n",
      "Model: 2791.893017402297, Actual: 2512\n",
      "Model: 5266.0136634306955, Actual: 4692\n",
      "Model: 1711.1798717375125, Actual: 1656\n",
      "Model: 6171.38054759182, Actual: 9050\n",
      "Model: 2794.047446827034, Actual: 3468\n",
      "Model: 2406.052529184733, Actual: 2168\n",
      "Model: 554.2635732140302, Actual: 632\n",
      "Model: 4141.859014481668, Actual: 3801\n",
      "Model: 3428.1551614383307, Actual: 2853\n",
      "Model: 713.288240819561, Actual: 733\n",
      "Model: 4334.505924219995, Actual: 4309\n",
      "Model: 800.7209261850098, Actual: 924\n",
      "Model: 292.7349211936885, Actual: 624\n",
      "Model: 4851.331918362228, Actual: 6389\n",
      "Model: 372.62919618241403, Actual: 802\n",
      "Model: -338.0435069504192, Actual: 500\n",
      "Model: -580.1800549771983, Actual: 540\n",
      "Model: 1902.5428462846694, Actual: 1712\n",
      "Model: 5225.825867456653, Actual: 3726\n",
      "Model: 6081.197208830381, Actual: 5607\n",
      "Model: 545.3165200026001, Actual: 668\n",
      "Model: 5643.610866026127, Actual: 7440\n",
      "Model: 4583.802000837572, Actual: 3722\n",
      "Model: 2022.3881839443488, Actual: 1760\n",
      "Model: 11453.127668559804, Actual: 14375\n",
      "Model: 6106.38174928743, Actual: 6354\n",
      "Model: 5192.2993524269805, Actual: 5516\n",
      "Model: 2497.637981839982, Actual: 2147\n",
      "Model: 6189.498224778428, Actual: 8674\n",
      "Model: 1938.5566061573638, Actual: 1698\n",
      "Model: 12154.333932742487, Actual: 13543\n",
      "Model: 7956.053748405628, Actual: 8815\n",
      "Model: 6904.082804305717, Actual: 7802\n",
      "Model: 6364.56440670908, Actual: 5588\n",
      "Model: 1636.9365493631549, Actual: 1745\n",
      "Model: 4174.6448271806075, Actual: 4239\n",
      "Model: 3448.401623159807, Actual: 2929\n",
      "Model: 11747.647850198484, Actual: 12654\n",
      "Model: 3781.088952309385, Actual: 1547\n",
      "Model: 552.7281299255292, Actual: 684\n",
      "Model: 5822.929851048668, Actual: 7198\n",
      "Model: 4816.994723923849, Actual: 4449\n",
      "Model: 8970.38869486404, Actual: 9304\n",
      "Model: 5231.921166431744, Actual: 6070\n",
      "Model: 336.5311582315985, Actual: 756\n",
      "Model: 1382.8213268109303, Actual: 929\n",
      "Model: 5122.113957264157, Actual: 6239\n",
      "Model: 1567.423869270796, Actual: 1265\n",
      "Model: 8414.217840520902, Actual: 12196\n",
      "Model: 4243.375032530004, Actual: 4193\n",
      "Model: 1548.024952682308, Actual: 1639\n",
      "Model: 342.04071009895915, Actual: 607\n",
      "Model: 1087.3685485698916, Actual: 961\n",
      "Model: 9450.319833659583, Actual: 15505\n",
      "Model: 600.3064431107177, Actual: 936\n",
      "Model: 6728.053413791022, Actual: 8774\n",
      "Model: 892.685394023561, Actual: 544\n",
      "Model: 1276.9243737194442, Actual: 1267\n",
      "Model: -572.4955202016386, Actual: 363\n",
      "Model: 2840.671268668069, Actual: 2795\n",
      "Model: 4034.3779733418937, Actual: 4008\n",
      "Model: 12864.86737645764, Actual: 14490\n",
      "Model: 5330.466140901016, Actual: 6752\n",
      "Model: 1332.2917581873307, Actual: 1349\n",
      "Model: 440.3141397027521, Actual: 461\n",
      "Model: 8681.9072585587, Actual: 10827\n",
      "Model: 2607.388447647888, Actual: 2354\n",
      "Model: 2657.4513926359355, Actual: 2651\n",
      "Model: 3485.0214956521863, Actual: 3051\n",
      "Model: 404.4552567906426, Actual: 680\n",
      "Model: 613.7182526875322, Actual: 907\n",
      "Model: 3517.037418654182, Actual: 3084\n",
      "Model: 9068.245665646837, Actual: 15052\n",
      "Model: 2263.970863567741, Actual: 2424\n",
      "Model: 5440.061776710549, Actual: 4102\n",
      "Model: 538.3306805400853, Actual: 665\n",
      "Model: 11750.949388780447, Actual: 9905\n",
      "Model: 745.4549145731376, Actual: 882\n",
      "Model: 4721.919082116272, Actual: 5055\n",
      "Model: 9193.412262412361, Actual: 12123\n",
      "Model: 834.1659762993063, Actual: 990\n",
      "Model: 5474.7411117760485, Actual: 5625\n"
     ],
     "output_type": "stream"
    }
   ],
   "source": [
    "for X,y in zip(X_test, y_test):\n",
    "    print(f\"Model: {clf.predict([X])[0]}, Actual: {y}\")"
   ],
   "metadata": {
    "collapsed": false,
    "pycharm": {
     "name": "#%%\n",
     "is_executing": false
    }
   }
  },
  {
   "cell_type": "code",
   "execution_count": 22,
   "outputs": [
    {
     "data": {
      "text/plain": "SVR(C=1.0, cache_size=200, coef0=0.0, degree=3, epsilon=0.1, gamma='scale',\n    kernel='rbf', max_iter=-1, shrinking=True, tol=0.001, verbose=False)"
     },
     "metadata": {},
     "output_type": "execute_result",
     "execution_count": 22
    }
   ],
   "source": [
    "clf = svm.SVR(kernel='rbf')\n",
    "clf.fit(X_train, y_train)"
   ],
   "metadata": {
    "collapsed": false,
    "pycharm": {
     "name": "#%%\n",
     "is_executing": false
    }
   }
  },
  {
   "cell_type": "code",
   "execution_count": 23,
   "outputs": [
    {
     "name": "stdout",
     "text": [
      "0.556688327118626\n",
      "Model: 680.1306334468868, Actual: 776\n",
      "Model: 4312.5704871039, Actual: 3763\n",
      "Model: 4802.168738209678, Actual: 4102\n",
      "Model: 5444.041808839835, Actual: 18760\n",
      "Model: 4139.569412965818, Actual: 4234\n",
      "Model: 890.8770212104855, Actual: 1000\n",
      "Model: 3136.618082933882, Actual: 2444\n",
      "Model: 5938.3234934546745, Actual: 8557\n",
      "Model: 6541.835983442123, Actual: 9165\n",
      "Model: 4041.8696588980642, Actual: 4044\n",
      "Model: 1039.0261995860524, Actual: 1076\n",
      "Model: 2176.885568612427, Actual: 2218\n",
      "Model: 5507.550167372362, Actual: 7273\n",
      "Model: 749.4001573496662, Actual: 687\n",
      "Model: 1208.2109239173305, Actual: 982\n",
      "Model: 1048.6775965677493, Actual: 926\n",
      "Model: 3853.8035346290385, Actual: 5784\n",
      "Model: 5951.4362455363225, Actual: 7222\n",
      "Model: 4806.860852326745, Actual: 14220\n",
      "Model: 5283.739679906704, Actual: 5495\n",
      "Model: 594.3301636547221, Actual: 878\n",
      "Model: 1732.2794365512254, Actual: 1206\n",
      "Model: 708.7511716383424, Actual: 844\n",
      "Model: 3435.763155321486, Actual: 2720\n",
      "Model: 3086.087530960346, Actual: 1250\n",
      "Model: 6796.43349022869, Actual: 17570\n",
      "Model: 5675.976103836759, Actual: 5518\n",
      "Model: 2962.7839270566997, Actual: 2623\n",
      "Model: 1805.2062779625585, Actual: 1601\n",
      "Model: 2030.8542637330024, Actual: 1715\n",
      "Model: 5334.948488240173, Actual: 5266\n",
      "Model: 3398.374644915206, Actual: 2964\n",
      "Model: 5824.288213491565, Actual: 6087\n",
      "Model: 5827.116109033261, Actual: 8363\n",
      "Model: 2652.557128494369, Actual: 2299\n",
      "Model: 1093.0258502965903, Actual: 1020\n",
      "Model: 1476.231640982081, Actual: 1181\n",
      "Model: 2362.8320976073996, Actual: 2109\n",
      "Model: 2167.31215751486, Actual: 2360\n",
      "Model: 1724.5438502669228, Actual: 1720\n",
      "Model: 588.8192959264584, Actual: 844\n",
      "Model: 5613.488194544894, Actual: 7277\n",
      "Model: 5943.321095900819, Actual: 17224\n",
      "Model: 1090.7930278321032, Actual: 532\n",
      "Model: 729.5163123710836, Actual: 684\n",
      "Model: 2903.3665635123884, Actual: 2279\n",
      "Model: 1567.091739865187, Actual: 1654\n",
      "Model: 7525.480204625459, Actual: 14482\n",
      "Model: 997.1706128333276, Actual: 588\n",
      "Model: 1730.112105057031, Actual: 1128\n",
      "Model: 1091.122936513288, Actual: 942\n",
      "Model: 5028.9072519976735, Actual: 4764\n",
      "Model: 2316.9424144855802, Actual: 1874\n",
      "Model: 3153.8301996338623, Actual: 3001\n",
      "Model: 6360.372997377894, Actual: 11163\n",
      "Model: 7208.439150198268, Actual: 9478\n",
      "Model: 1512.4651190932932, Actual: 666\n",
      "Model: 3578.384323183259, Actual: 2942\n",
      "Model: 820.3048950937618, Actual: 988\n",
      "Model: 2411.8285422713525, Actual: 1940\n",
      "Model: 6212.036941581295, Actual: 9641\n",
      "Model: 2336.933326239117, Actual: 2383\n",
      "Model: 1553.0003553525412, Actual: 1815\n",
      "Model: 3874.719066959059, Actual: 3634\n",
      "Model: 1414.4026070253444, Actual: 1752\n",
      "Model: 4287.45429572346, Actual: 4073\n",
      "Model: 1150.3913345970668, Actual: 1142\n",
      "Model: 3954.166322799043, Actual: 12907\n",
      "Model: 7122.322352720657, Actual: 10028\n",
      "Model: 1176.593861125717, Actual: 744\n",
      "Model: 518.0827764478208, Actual: 484\n",
      "Model: 4783.3772078276925, Actual: 4824\n",
      "Model: 916.6525165155417, Actual: 1021\n",
      "Model: 4911.875460766426, Actual: 6516\n",
      "Model: 1091.7681409926417, Actual: 1073\n",
      "Model: 2971.3382028850046, Actual: 2541\n",
      "Model: 4752.741275619673, Actual: 4318\n",
      "Model: 993.0835454835701, Actual: 964\n",
      "Model: 7350.764155696776, Actual: 15197\n",
      "Model: 4184.571899593413, Actual: 3992\n",
      "Model: 912.9026151010289, Actual: 526\n",
      "Model: 4770.712606126894, Actual: 6680\n",
      "Model: 548.3292310549364, Actual: 1080\n",
      "Model: 389.29807447280155, Actual: 730\n",
      "Model: 959.4042075495386, Actual: 1031\n",
      "Model: 1217.98704466643, Actual: 891\n",
      "Model: 1233.4063296556537, Actual: 826\n",
      "Model: 5877.632925512651, Actual: 5739\n",
      "Model: 708.9864013309307, Actual: 562\n",
      "Model: 1230.2040462897571, Actual: 1243\n",
      "Model: 4530.197386347325, Actual: 12633\n",
      "Model: 604.0184565663117, Actual: 538\n",
      "Model: 7335.936463524999, Actual: 12014\n",
      "Model: 4252.316504657502, Actual: 4369\n",
      "Model: 5482.08290152664, Actual: 5998\n",
      "Model: 4650.232802869636, Actual: 3936\n",
      "Model: 1501.1961666172306, Actual: 1310\n",
      "Model: 7417.727358590083, Actual: 12948\n",
      "Model: 6047.785976087992, Actual: 17663\n",
      "Model: 741.4067280137601, Actual: 878\n",
      "Model: 673.0276770141922, Actual: 765\n",
      "Model: 4454.77721987844, Actual: 5484\n",
      "Model: 3413.6357658976904, Actual: 3277\n",
      "Model: 1196.9153691100137, Actual: 863\n",
      "Model: 1083.5347124225668, Actual: 1035\n",
      "Model: 2094.345979265358, Actual: 1308\n",
      "Model: 2251.45931708999, Actual: 1643\n",
      "Model: 5648.595702186529, Actual: 10730\n",
      "Model: 728.4460906304289, Actual: 490\n",
      "Model: 2713.215193765479, Actual: 2842\n",
      "Model: 3538.3868085871036, Actual: 3486\n",
      "Model: 1281.7142041202057, Actual: 1569\n",
      "Model: 1038.8428031053968, Actual: 951\n",
      "Model: 1349.877192876486, Actual: 1224\n",
      "Model: 6654.511129799389, Actual: 12089\n",
      "Model: 3092.7659266675373, Actual: 3016\n",
      "Model: 2454.5165851045344, Actual: 3343\n",
      "Model: 1241.3722974571888, Actual: 873\n",
      "Model: 2694.904979053118, Actual: 2512\n",
      "Model: 4661.765933959546, Actual: 4692\n",
      "Model: 1461.939912177519, Actual: 1656\n",
      "Model: 5826.857740611555, Actual: 9050\n",
      "Model: 2415.7035437838426, Actual: 3468\n",
      "Model: 1939.3455300699059, Actual: 2168\n",
      "Model: 855.0493491750012, Actual: 632\n",
      "Model: 3791.3743692006387, Actual: 3801\n",
      "Model: 3120.7236559549774, Actual: 2853\n",
      "Model: 1000.3338528156992, Actual: 733\n",
      "Model: 4503.801976308379, Actual: 4309\n",
      "Model: 1432.7544353722515, Actual: 924\n",
      "Model: 566.4979089764256, Actual: 624\n",
      "Model: 4854.954584909525, Actual: 6389\n",
      "Model: 632.5681615771205, Actual: 802\n",
      "Model: 943.9275807971981, Actual: 500\n",
      "Model: 911.2707463715014, Actual: 540\n",
      "Model: 1630.8261641544536, Actual: 1712\n",
      "Model: 4680.049387725614, Actual: 3726\n",
      "Model: 5159.672025939235, Actual: 5607\n",
      "Model: 1089.0858111852472, Actual: 668\n",
      "Model: 5722.90726571645, Actual: 7440\n",
      "Model: 3754.5764530817714, Actual: 3722\n",
      "Model: 1781.8406388531396, Actual: 1760\n",
      "Model: 6456.664997639149, Actual: 14375\n",
      "Model: 5614.492038074532, Actual: 6354\n",
      "Model: 5027.754044815767, Actual: 5516\n",
      "Model: 2381.0591074121494, Actual: 2147\n",
      "Model: 6147.050181855206, Actual: 8674\n",
      "Model: 2043.7730775920008, Actual: 1698\n",
      "Model: 6185.143785851787, Actual: 13543\n",
      "Model: 6877.093211133219, Actual: 8815\n",
      "Model: 6284.5619109050385, Actual: 7802\n",
      "Model: 5948.899084683953, Actual: 5588\n",
      "Model: 1945.5481852455666, Actual: 1745\n",
      "Model: 3885.2956848998265, Actual: 4239\n",
      "Model: 3650.8355813214152, Actual: 2929\n",
      "Model: 5607.193387938654, Actual: 12654\n",
      "Model: 3378.280532011543, Actual: 1547\n",
      "Model: 614.594264806065, Actual: 684\n",
      "Model: 5816.536148630466, Actual: 7198\n",
      "Model: 4985.566238695188, Actual: 4449\n",
      "Model: 6587.079628913157, Actual: 9304\n",
      "Model: 5471.807157746909, Actual: 6070\n",
      "Model: 1028.2991296495452, Actual: 756\n",
      "Model: 1323.8809012548618, Actual: 929\n",
      "Model: 5358.220095036853, Actual: 6239\n",
      "Model: 1440.0958563822355, Actual: 1265\n",
      "Model: 6122.846669388426, Actual: 12196\n",
      "Model: 3824.7525095564297, Actual: 4193\n",
      "Model: 1356.2716586381782, Actual: 1639\n",
      "Model: 690.608009964365, Actual: 607\n",
      "Model: 1100.7701912615962, Actual: 961\n",
      "Model: 6857.715960166901, Actual: 15505\n",
      "Model: 1163.230369451725, Actual: 936\n",
      "Model: 6932.073433139504, Actual: 8774\n",
      "Model: 1622.3398912747832, Actual: 544\n",
      "Model: 1351.0667080056337, Actual: 1267\n",
      "Model: 1103.269157442854, Actual: 363\n",
      "Model: 2654.4139244715257, Actual: 2795\n",
      "Model: 4054.5774706582993, Actual: 4008\n",
      "Model: 6877.718405462339, Actual: 14490\n",
      "Model: 5269.506892875586, Actual: 6752\n",
      "Model: 1396.6790689573809, Actual: 1349\n",
      "Model: 1396.4755875092826, Actual: 461\n",
      "Model: 6888.391204365505, Actual: 10827\n",
      "Model: 2581.2196882726234, Actual: 2354\n",
      "Model: 2584.880901041266, Actual: 2651\n",
      "Model: 3109.1395150568724, Actual: 3051\n",
      "Model: 719.168287591122, Actual: 680\n",
      "Model: 660.4159481276915, Actual: 907\n",
      "Model: 3527.1696042481644, Actual: 3084\n",
      "Model: 6599.612983538673, Actual: 15052\n",
      "Model: 1930.0614021141362, Actual: 2424\n",
      "Model: 4872.289484098265, Actual: 4102\n",
      "Model: 688.5527362825019, Actual: 665\n",
      "Model: 6287.586003461388, Actual: 9905\n",
      "Model: 1011.1498328568869, Actual: 882\n",
      "Model: 4712.034518850113, Actual: 5055\n",
      "Model: 7137.086640493182, Actual: 12123\n",
      "Model: 863.9006133902581, Actual: 990\n",
      "Model: 5538.946458002509, Actual: 5625\n"
     ],
     "output_type": "stream"
    }
   ],
   "source": [
    "print(clf.score(X_test, y_test))\n",
    "\n",
    "for X,y in zip(X_test, y_test):\n",
    "    print(f\"Model: {clf.predict([X])[0]}, Actual: {y}\")"
   ],
   "metadata": {
    "collapsed": false,
    "pycharm": {
     "name": "#%%\n",
     "is_executing": false
    }
   }
  }
 ],
 "metadata": {
  "kernelspec": {
   "display_name": "Python 3",
   "language": "python",
   "name": "python3"
  },
  "language_info": {
   "codemirror_mode": {
    "name": "ipython",
    "version": 2
   },
   "file_extension": ".py",
   "mimetype": "text/x-python",
   "name": "python",
   "nbconvert_exporter": "python",
   "pygments_lexer": "ipython2",
   "version": "2.7.6"
  },
  "pycharm": {
   "stem_cell": {
    "cell_type": "raw",
    "source": [],
    "metadata": {
     "collapsed": false
    }
   }
  }
 },
 "nbformat": 4,
 "nbformat_minor": 0
}